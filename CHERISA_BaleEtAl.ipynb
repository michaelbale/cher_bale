{
 "cells": [
  {
   "cell_type": "code",
   "execution_count": 1,
   "metadata": {},
   "outputs": [
    {
     "name": "stderr",
     "output_type": "stream",
     "text": [
      "Bioconductor version 3.9 (BiocManager 1.30.10), R 3.6.1 (2019-07-05)\n",
      "Installing package(s) 'ChIPpeakAnno'\n"
     ]
    },
    {
     "name": "stdout",
     "output_type": "stream",
     "text": [
      "package 'ChIPpeakAnno' successfully unpacked and MD5 sums checked\n",
      "\n",
      "The downloaded binary packages are in\n",
      "\tC:\\Users\\Michael\\AppData\\Local\\Temp\\RtmpOKNRN3\\downloaded_packages\n"
     ]
    },
    {
     "name": "stderr",
     "output_type": "stream",
     "text": [
      "Bioconductor version 3.9 (BiocManager 1.30.10), R 3.6.1 (2019-07-05)\n",
      "Installing package(s) 'Homo.sapiens'\n",
      "installing the source package 'Homo.sapiens'\n",
      "\n",
      "Warning message in install.packages(...):\n",
      "\"installation of package 'Homo.sapiens' had non-zero exit status\"Bioconductor version 3.9 (BiocManager 1.30.10), R 3.6.1 (2019-07-05)\n",
      "Installing package(s) 'annotate'\n"
     ]
    },
    {
     "name": "stdout",
     "output_type": "stream",
     "text": [
      "package 'annotate' successfully unpacked and MD5 sums checked\n",
      "\n",
      "The downloaded binary packages are in\n",
      "\tC:\\Users\\Michael\\AppData\\Local\\Temp\\RtmpOKNRN3\\downloaded_packages\n"
     ]
    },
    {
     "name": "stderr",
     "output_type": "stream",
     "text": [
      "Bioconductor version 3.9 (BiocManager 1.30.10), R 3.6.1 (2019-07-05)\n",
      "Installing package(s) 'AnnotationHub'\n"
     ]
    },
    {
     "name": "stdout",
     "output_type": "stream",
     "text": [
      "package 'AnnotationHub' successfully unpacked and MD5 sums checked\n",
      "\n",
      "The downloaded binary packages are in\n",
      "\tC:\\Users\\Michael\\AppData\\Local\\Temp\\RtmpOKNRN3\\downloaded_packages\n"
     ]
    }
   ],
   "source": [
    "#Load Libraries needed for notebook\n",
    "\n",
    "#Install Bioconductor Libraries\n",
    "BiocManager::install(\"ChIPpeakAnno\", update=F, ask=F)\n",
    "BiocManager::install(\"Homo.sapiens\", update=F, ask=F)\n",
    "BiocManager::install(\"annotate\", update=F, ask=F)\n",
    "BiocManager::install(\"AnnotationHub\", update=F, ask=F)\n",
    "\n",
    "#Load necessary libraries and suppress startup messages\n",
    "library(plyr)\n",
    "suppressPackageStartupMessages(library(dplyr))\n",
    "library(ggplot2)\n",
    "suppressPackageStartupMessages(library(tidyverse))\n",
    "suppressPackageStartupMessages(library(reshape2))\n",
    "suppressPackageStartupMessages(library(devtools))\n",
    "suppressPackageStartupMessages(library(ggpubr))\n",
    "suppressPackageStartupMessages(library(ChIPpeakAnno))\n",
    "suppressPackageStartupMessages(library(Homo.sapiens))\n",
    "suppressPackageStartupMessages(library(org.Hs.eg.db))\n",
    "suppressPackageStartupMessages(library(annotate))\n",
    "suppressPackageStartupMessages(library(AnnotationHub))\n",
    "\n",
    "\n",
    "#Color Scheme for PID-specific figures\n",
    "colors <- c(\n",
    "            \"yellow3\", \"darkorange\", \"darkorchid4\", \"turquoise4\",\n",
    "            \"darkgoldenrod2\", \"lightpink1\", \"aquamarine3\",\n",
    "            \"purple\", \"blue\", \"chocolate4\", \"midnightblue\"\n",
    "           )\n",
    "\n"
   ]
  },
  {
   "cell_type": "code",
   "execution_count": 2,
   "metadata": {},
   "outputs": [
    {
     "name": "stderr",
     "output_type": "stream",
     "text": [
      "SHA-1 hash of file is 13acbf131cb59cf7485432a0281432bd6b4497e3\n",
      "Loading required package: xlsx\n"
     ]
    }
   ],
   "source": [
    "#Import ISA Data condensing scripts.\n",
    "#Scripts are freely available for download and use at the link below.\n",
    "\n",
    "\n",
    "devtools::source_url(\"https://github.com/michaelbale/RStuff/blob/master/ISADataCondense.R?raw=TRUE\")\n",
    "\n",
    "#Briefly: 2 useful methods are loaded: isadata.condense.singlerun(df) and isadata.condense.multirun(df)\n",
    "#The overarching method is to combine integration sites in a manner such that the frequency is \n",
    "#the maximum of the number of detections at the 3' LTR and 5' LTR for which the detection LTR is \n",
    "#in column LTR in the supplied data.frame. multirun requires a column \"Sample_run\" so as to \n",
    "#differentiate between sample types (e.g. tissues or time points) and creates count columns for\n",
    "#each as well as a total freq column."
   ]
  },
  {
   "cell_type": "code",
   "execution_count": 3,
   "metadata": {},
   "outputs": [
    {
     "data": {
      "text/html": [
       "<table>\n",
       "<caption>A data.frame: 6 × 6</caption>\n",
       "<thead>\n",
       "\t<tr><th scope=col>PID</th><th scope=col>Sample_run</th><th scope=col>chr</th><th scope=col>bp_pseudo3LTR</th><th scope=col>LTR</th><th scope=col>provirus_orientation</th></tr>\n",
       "\t<tr><th scope=col>&lt;fct&gt;</th><th scope=col>&lt;chr&gt;</th><th scope=col>&lt;chr&gt;</th><th scope=col>&lt;int&gt;</th><th scope=col>&lt;chr&gt;</th><th scope=col>&lt;chr&gt;</th></tr>\n",
       "</thead>\n",
       "<tbody>\n",
       "\t<tr><td>ZA002</td><td>onART</td><td>chr7 </td><td> 34482257</td><td>5LTR</td><td>+</td></tr>\n",
       "\t<tr><td>ZA002</td><td>onART</td><td>chr16</td><td> 89483345</td><td>5LTR</td><td>+</td></tr>\n",
       "\t<tr><td>ZA002</td><td>onART</td><td>chr19</td><td> 47370568</td><td>5LTR</td><td>-</td></tr>\n",
       "\t<tr><td>ZA002</td><td>onART</td><td>chr4 </td><td> 36141644</td><td>5LTR</td><td>+</td></tr>\n",
       "\t<tr><td>ZA002</td><td>onART</td><td>chr5 </td><td>142220392</td><td>5LTR</td><td>-</td></tr>\n",
       "\t<tr><td>ZA002</td><td>onART</td><td>chr10</td><td> 73903927</td><td>3LTR</td><td>-</td></tr>\n",
       "</tbody>\n",
       "</table>\n"
      ],
      "text/latex": [
       "A data.frame: 6 × 6\n",
       "\\begin{tabular}{r|llllll}\n",
       " PID & Sample\\_run & chr & bp\\_pseudo3LTR & LTR & provirus\\_orientation\\\\\n",
       " <fct> & <chr> & <chr> & <int> & <chr> & <chr>\\\\\n",
       "\\hline\n",
       "\t ZA002 & onART & chr7  &  34482257 & 5LTR & +\\\\\n",
       "\t ZA002 & onART & chr16 &  89483345 & 5LTR & +\\\\\n",
       "\t ZA002 & onART & chr19 &  47370568 & 5LTR & -\\\\\n",
       "\t ZA002 & onART & chr4  &  36141644 & 5LTR & +\\\\\n",
       "\t ZA002 & onART & chr5  & 142220392 & 5LTR & -\\\\\n",
       "\t ZA002 & onART & chr10 &  73903927 & 3LTR & -\\\\\n",
       "\\end{tabular}\n"
      ],
      "text/markdown": [
       "\n",
       "A data.frame: 6 × 6\n",
       "\n",
       "| PID &lt;fct&gt; | Sample_run &lt;chr&gt; | chr &lt;chr&gt; | bp_pseudo3LTR &lt;int&gt; | LTR &lt;chr&gt; | provirus_orientation &lt;chr&gt; |\n",
       "|---|---|---|---|---|---|\n",
       "| ZA002 | onART | chr7  |  34482257 | 5LTR | + |\n",
       "| ZA002 | onART | chr16 |  89483345 | 5LTR | + |\n",
       "| ZA002 | onART | chr19 |  47370568 | 5LTR | - |\n",
       "| ZA002 | onART | chr4  |  36141644 | 5LTR | + |\n",
       "| ZA002 | onART | chr5  | 142220392 | 5LTR | - |\n",
       "| ZA002 | onART | chr10 |  73903927 | 3LTR | - |\n",
       "\n"
      ],
      "text/plain": [
       "  PID   Sample_run chr   bp_pseudo3LTR LTR  provirus_orientation\n",
       "1 ZA002 onART      chr7   34482257     5LTR +                   \n",
       "2 ZA002 onART      chr16  89483345     5LTR +                   \n",
       "3 ZA002 onART      chr19  47370568     5LTR -                   \n",
       "4 ZA002 onART      chr4   36141644     5LTR +                   \n",
       "5 ZA002 onART      chr5  142220392     5LTR -                   \n",
       "6 ZA002 onART      chr10  73903927     3LTR -                   "
      ]
     },
     "metadata": {},
     "output_type": "display_data"
    }
   ],
   "source": [
    "#Read in IS data\n",
    "\n",
    "#In Vivo data -- CHER\n",
    "CHER_ISA <- read.table(\"./CHERISA_unmapped_blinded.txt\", header=T, stringsAsFactors=F)\n",
    "CHER_ISA$PID <- factor(CHER_ISA$PID)\n",
    "CHER_age <- read.table(\"./CHERISA_ages.txt\", header=T, stringsAsFactors=F)\n",
    "\n",
    "#In Vivo data -- RID\n",
    "#PIDs 1079, 2669, 1683, and 3720 are taken from McManus et al. JCI 2019\n",
    "#N.B. PID 3720 in McManus et al. is described predominently as the viremic control\n",
    "#ISA data from him was taken from the on-ART time point only\n",
    "#PIDs 1-5 are taken from Maldarelli, Wu, et al. Science 2014 \n",
    "RID_ISA <- read.table(\"./RIDData_unmapped.txt\", header=T, stringsAsFactors = F)\n",
    "RID_ISA$PID <- factor(RID_ISA$PID)\n",
    "\n",
    "#PBMC Library\n",
    "PBMC_ISA <- read.table(\"./PBMCISA_unmapped.txt\", header=T, stringsAsFactors=F)\n",
    "\n",
    "#Display data format -- is consistent throughout\n",
    "head(CHER_ISA)"
   ]
  },
  {
   "cell_type": "code",
   "execution_count": 4,
   "metadata": {},
   "outputs": [],
   "source": [
    "#Split CHER Data into list of data frames for each patient\n",
    "CHER_ISA.split <- split(CHER_ISA[,2:6], f=CHER_ISA$PID)\n",
    "\n",
    "#apply multi-run condense function from previous cell to all dataframes in list\n",
    "CHER_ISA.cond <- lapply(CHER_ISA.split, FUN = isadata.condense.multirun)"
   ]
  },
  {
   "cell_type": "code",
   "execution_count": 5,
   "metadata": {},
   "outputs": [],
   "source": [
    "#Handle Patient ZA004:\n",
    "#on-ART data from ZA004 is from two time points, so will need to make new freq_onART column\n",
    "#to have consistent columns throughout the CHER_ISA.cond list object\n",
    "CHER_ISA.cond[[\"ZA004\"]]$freq_onART <- CHER_ISA.cond[[\"ZA004\"]]$freq_onART1 + CHER_ISA.cond[[\"ZA004\"]]$freq_onART2\n",
    "CHER_ISA.cond[[\"ZA004\"]] <- CHER_ISA.cond[[\"ZA004\"]][,c(1,2,3,8,6,7)]"
   ]
  },
  {
   "cell_type": "code",
   "execution_count": 6,
   "metadata": {},
   "outputs": [],
   "source": [
    "#clone counter functions for pre and on-ART counts\n",
    "\n",
    "#pre-ART function has cutoff {num} parameter to define stringent or lax criterion as defined in manuscript\n",
    "get.preClones <- function(df, cutoff) {\n",
    "    return(sum(ifelse(df$freq_preART > cutoff, 1, ifelse(df$freq_preART > 0 & df$freq_onART > 0, 1, 0))))\n",
    "}\n",
    "\n",
    "#on-ART function has no cutoff parameter as the criterion for single-timepoint detection is greater than 1\n",
    "get.onClones <- function(df) {\n",
    "    return(sum(ifelse(df$freq_onART > 1, 1, ifelse(df$freq_preART > 0 & df$freq_onART > 0, 1, 0))))\n",
    "}"
   ]
  },
  {
   "cell_type": "code",
   "execution_count": 7,
   "metadata": {},
   "outputs": [],
   "source": [
    "#Summarize ISA count data\n",
    "ISA_Summ.table <- data.frame(\n",
    "    #Patient IDs\n",
    "    PID = names(CHER_ISA.cond),\n",
    "    #Show total detected LTR-corrected IS in pre-ART by summing freq_preART column\n",
    "    NumIS_preART = sapply(CHER_ISA.cond, function(x) sum(x$freq_preART)),\n",
    "    #Count pre-ART clones with stringent criterion\n",
    "    NumClone_preART.stringent = sapply(CHER_ISA.cond, get.preClones, cutoff = 2),\n",
    "    #Count pre-ART clones with lax criterion\n",
    "    NumClone_preART.lax = sapply(CHER_ISA.cond, get.preClones, cutoff=1),\n",
    "    #Show total detected LTR-corrected IS in on-ART\n",
    "    NumIS_onART = sapply(CHER_ISA.cond, function(x) sum(x$freq_onART)),\n",
    "    #Count on-ART clones\n",
    "    NumClone_onART = sapply(CHER_ISA.cond, get.onClones),\n",
    "    #Count number of IS that persist through both time points\n",
    "    NumClone_persist = sapply(CHER_ISA.cond, function(x) sum(x$freq_preART > 0 & x$freq_onART > 0)),\n",
    "    row.names = NULL\n",
    ")\n",
    "                         \n",
    "#N.B. Patient ZA004 is not handled exactly here\n",
    "#Persist column could miss IS detected at both on-ART time points but not the pre-ART time point\n",
    "                         \n",
    "#N.B. Persist column double dips from the previous clone columns"
   ]
  },
  {
   "cell_type": "code",
   "execution_count": 8,
   "metadata": {},
   "outputs": [
    {
     "data": {
      "text/html": [
       "<table>\n",
       "<caption>A data.frame: 11 × 7</caption>\n",
       "<thead>\n",
       "\t<tr><th scope=col>PID</th><th scope=col>NumIS_preART</th><th scope=col>NumClone_preART.stringent</th><th scope=col>NumClone_preART.lax</th><th scope=col>NumIS_onART</th><th scope=col>NumClone_onART</th><th scope=col>NumClone_persist</th></tr>\n",
       "\t<tr><th scope=col>&lt;fct&gt;</th><th scope=col>&lt;dbl&gt;</th><th scope=col>&lt;dbl&gt;</th><th scope=col>&lt;dbl&gt;</th><th scope=col>&lt;dbl&gt;</th><th scope=col>&lt;dbl&gt;</th><th scope=col>&lt;int&gt;</th></tr>\n",
       "</thead>\n",
       "<tbody>\n",
       "\t<tr><td>ZA002</td><td>1064</td><td>27</td><td>50</td><td>113</td><td> 9</td><td>7</td></tr>\n",
       "\t<tr><td>ZA003</td><td>1386</td><td> 7</td><td>30</td><td>148</td><td>16</td><td>0</td></tr>\n",
       "\t<tr><td>ZA004</td><td> 655</td><td> 5</td><td>13</td><td>255</td><td>25</td><td>3</td></tr>\n",
       "\t<tr><td>ZA005</td><td> 583</td><td> 2</td><td>14</td><td> 77</td><td> 4</td><td>1</td></tr>\n",
       "\t<tr><td>ZA006</td><td> 486</td><td> 1</td><td> 6</td><td>137</td><td>20</td><td>1</td></tr>\n",
       "\t<tr><td>ZA007</td><td> 197</td><td> 4</td><td> 5</td><td> 85</td><td> 8</td><td>2</td></tr>\n",
       "\t<tr><td>ZA008</td><td>1293</td><td> 1</td><td> 8</td><td>225</td><td>11</td><td>1</td></tr>\n",
       "\t<tr><td>ZA009</td><td> 809</td><td> 0</td><td>16</td><td>125</td><td> 5</td><td>0</td></tr>\n",
       "\t<tr><td>ZA010</td><td> 514</td><td> 1</td><td>12</td><td>115</td><td> 3</td><td>0</td></tr>\n",
       "\t<tr><td>ZA011</td><td> 432</td><td> 5</td><td> 9</td><td>149</td><td> 8</td><td>3</td></tr>\n",
       "\t<tr><td>ZA012</td><td>1243</td><td> 3</td><td>12</td><td>432</td><td>32</td><td>2</td></tr>\n",
       "</tbody>\n",
       "</table>\n"
      ],
      "text/latex": [
       "A data.frame: 11 × 7\n",
       "\\begin{tabular}{r|lllllll}\n",
       " PID & NumIS\\_preART & NumClone\\_preART.stringent & NumClone\\_preART.lax & NumIS\\_onART & NumClone\\_onART & NumClone\\_persist\\\\\n",
       " <fct> & <dbl> & <dbl> & <dbl> & <dbl> & <dbl> & <int>\\\\\n",
       "\\hline\n",
       "\t ZA002 & 1064 & 27 & 50 & 113 &  9 & 7\\\\\n",
       "\t ZA003 & 1386 &  7 & 30 & 148 & 16 & 0\\\\\n",
       "\t ZA004 &  655 &  5 & 13 & 255 & 25 & 3\\\\\n",
       "\t ZA005 &  583 &  2 & 14 &  77 &  4 & 1\\\\\n",
       "\t ZA006 &  486 &  1 &  6 & 137 & 20 & 1\\\\\n",
       "\t ZA007 &  197 &  4 &  5 &  85 &  8 & 2\\\\\n",
       "\t ZA008 & 1293 &  1 &  8 & 225 & 11 & 1\\\\\n",
       "\t ZA009 &  809 &  0 & 16 & 125 &  5 & 0\\\\\n",
       "\t ZA010 &  514 &  1 & 12 & 115 &  3 & 0\\\\\n",
       "\t ZA011 &  432 &  5 &  9 & 149 &  8 & 3\\\\\n",
       "\t ZA012 & 1243 &  3 & 12 & 432 & 32 & 2\\\\\n",
       "\\end{tabular}\n"
      ],
      "text/markdown": [
       "\n",
       "A data.frame: 11 × 7\n",
       "\n",
       "| PID &lt;fct&gt; | NumIS_preART &lt;dbl&gt; | NumClone_preART.stringent &lt;dbl&gt; | NumClone_preART.lax &lt;dbl&gt; | NumIS_onART &lt;dbl&gt; | NumClone_onART &lt;dbl&gt; | NumClone_persist &lt;int&gt; |\n",
       "|---|---|---|---|---|---|---|\n",
       "| ZA002 | 1064 | 27 | 50 | 113 |  9 | 7 |\n",
       "| ZA003 | 1386 |  7 | 30 | 148 | 16 | 0 |\n",
       "| ZA004 |  655 |  5 | 13 | 255 | 25 | 3 |\n",
       "| ZA005 |  583 |  2 | 14 |  77 |  4 | 1 |\n",
       "| ZA006 |  486 |  1 |  6 | 137 | 20 | 1 |\n",
       "| ZA007 |  197 |  4 |  5 |  85 |  8 | 2 |\n",
       "| ZA008 | 1293 |  1 |  8 | 225 | 11 | 1 |\n",
       "| ZA009 |  809 |  0 | 16 | 125 |  5 | 0 |\n",
       "| ZA010 |  514 |  1 | 12 | 115 |  3 | 0 |\n",
       "| ZA011 |  432 |  5 |  9 | 149 |  8 | 3 |\n",
       "| ZA012 | 1243 |  3 | 12 | 432 | 32 | 2 |\n",
       "\n"
      ],
      "text/plain": [
       "   PID   NumIS_preART NumClone_preART.stringent NumClone_preART.lax NumIS_onART\n",
       "1  ZA002 1064         27                        50                  113        \n",
       "2  ZA003 1386          7                        30                  148        \n",
       "3  ZA004  655          5                        13                  255        \n",
       "4  ZA005  583          2                        14                   77        \n",
       "5  ZA006  486          1                         6                  137        \n",
       "6  ZA007  197          4                         5                   85        \n",
       "7  ZA008 1293          1                         8                  225        \n",
       "8  ZA009  809          0                        16                  125        \n",
       "9  ZA010  514          1                        12                  115        \n",
       "10 ZA011  432          5                         9                  149        \n",
       "11 ZA012 1243          3                        12                  432        \n",
       "   NumClone_onART NumClone_persist\n",
       "1   9             7               \n",
       "2  16             0               \n",
       "3  25             3               \n",
       "4   4             1               \n",
       "5  20             1               \n",
       "6   8             2               \n",
       "7  11             1               \n",
       "8   5             0               \n",
       "9   3             0               \n",
       "10  8             3               \n",
       "11 32             2               "
      ]
     },
     "metadata": {},
     "output_type": "display_data"
    }
   ],
   "source": [
    "#Show table\n",
    "ISA_Summ.table"
   ]
  },
  {
   "cell_type": "code",
   "execution_count": 9,
   "metadata": {},
   "outputs": [],
   "source": [
    "#Function adapted from python code at https://github.com/michaelbale/python_stuff/oligoclonality_index.py\n",
    "\n",
    "#Calculate Oligoclonality index as described in manuscript and Gillet et al (2011) Blood.\n",
    "get.OCI <- function(x) {\n",
    "    x<- x[which(x>0)]\n",
    "    x <- sort(x, decreasing=T)\n",
    "    num_sites <- sum(x)\n",
    "    num_uis <- length(x)\n",
    "    rel_abun <- x / num_sites\n",
    "    rel_abun.cum <- cumsum(rel_abun)\n",
    "    OCI <- 2*(sum(rel_abun.cum/num_uis) - 0.5)\n",
    "    return(OCI)\n",
    "}"
   ]
  },
  {
   "cell_type": "code",
   "execution_count": 10,
   "metadata": {},
   "outputs": [],
   "source": [
    "#Summarize Oligoclonality index values\n",
    "ISA_Summ.OCI <- data.frame(\n",
    "    #Get Patient Names\n",
    "    PID = names(CHER_ISA.cond),\n",
    "    #Get pre-ART Age (months) from annotation object\n",
    "    age_preART = CHER_age$Age_preART,\n",
    "    #Calculate pre-ART OCI from function\n",
    "    OCI_preART = sapply(CHER_ISA.cond, function(y) round(get.OCI(y$freq_preART), 3)),\n",
    "    #Get on-ART Age (months) from annotation object\n",
    "    age_onART = CHER_age$Age_onART,\n",
    "    #Calculate on-ART OCI from function\n",
    "    OCI_onART = sapply(CHER_ISA.cond, function(y) round(get.OCI(y$freq_onART), 3)),\n",
    "    row.names = NULL\n",
    ")\n",
    "                        \n",
    "#N.B. Age here is different from Table 1 in manuscript\n",
    "#Table 1 has on-ART age in years whereas the annotation object loaded has on-ART age in months\n",
    "#ZA004 on-ART age is the average of the two on-ART time points"
   ]
  },
  {
   "cell_type": "code",
   "execution_count": 11,
   "metadata": {},
   "outputs": [
    {
     "data": {
      "text/html": [
       "<table>\n",
       "<caption>A data.frame: 11 × 5</caption>\n",
       "<thead>\n",
       "\t<tr><th scope=col>PID</th><th scope=col>age_preART</th><th scope=col>OCI_preART</th><th scope=col>age_onART</th><th scope=col>OCI_onART</th></tr>\n",
       "\t<tr><th scope=col>&lt;fct&gt;</th><th scope=col>&lt;dbl&gt;</th><th scope=col>&lt;dbl&gt;</th><th scope=col>&lt;dbl&gt;</th><th scope=col>&lt;dbl&gt;</th></tr>\n",
       "</thead>\n",
       "<tbody>\n",
       "\t<tr><td>ZA002</td><td>17.4</td><td>0.085</td><td> 82.44</td><td>0.079</td></tr>\n",
       "\t<tr><td>ZA003</td><td> 1.8</td><td>0.040</td><td> 96.72</td><td>0.161</td></tr>\n",
       "\t<tr><td>ZA004</td><td> 2.7</td><td>0.024</td><td>100.08</td><td>0.223</td></tr>\n",
       "\t<tr><td>ZA005</td><td> 6.0</td><td>0.027</td><td> 96.48</td><td>0.166</td></tr>\n",
       "\t<tr><td>ZA006</td><td> 9.0</td><td>0.012</td><td> 89.40</td><td>0.313</td></tr>\n",
       "\t<tr><td>ZA007</td><td> 9.9</td><td>0.070</td><td> 98.88</td><td>0.403</td></tr>\n",
       "\t<tr><td>ZA008</td><td> 2.2</td><td>0.006</td><td> 81.24</td><td>0.065</td></tr>\n",
       "\t<tr><td>ZA009</td><td> 2.0</td><td>0.021</td><td>109.56</td><td>0.055</td></tr>\n",
       "\t<tr><td>ZA010</td><td> 1.8</td><td>0.027</td><td>100.20</td><td>0.173</td></tr>\n",
       "\t<tr><td>ZA011</td><td> 9.3</td><td>0.037</td><td> 88.20</td><td>0.092</td></tr>\n",
       "\t<tr><td>ZA012</td><td> 5.1</td><td>0.010</td><td>100.92</td><td>0.126</td></tr>\n",
       "</tbody>\n",
       "</table>\n"
      ],
      "text/latex": [
       "A data.frame: 11 × 5\n",
       "\\begin{tabular}{r|lllll}\n",
       " PID & age\\_preART & OCI\\_preART & age\\_onART & OCI\\_onART\\\\\n",
       " <fct> & <dbl> & <dbl> & <dbl> & <dbl>\\\\\n",
       "\\hline\n",
       "\t ZA002 & 17.4 & 0.085 &  82.44 & 0.079\\\\\n",
       "\t ZA003 &  1.8 & 0.040 &  96.72 & 0.161\\\\\n",
       "\t ZA004 &  2.7 & 0.024 & 100.08 & 0.223\\\\\n",
       "\t ZA005 &  6.0 & 0.027 &  96.48 & 0.166\\\\\n",
       "\t ZA006 &  9.0 & 0.012 &  89.40 & 0.313\\\\\n",
       "\t ZA007 &  9.9 & 0.070 &  98.88 & 0.403\\\\\n",
       "\t ZA008 &  2.2 & 0.006 &  81.24 & 0.065\\\\\n",
       "\t ZA009 &  2.0 & 0.021 & 109.56 & 0.055\\\\\n",
       "\t ZA010 &  1.8 & 0.027 & 100.20 & 0.173\\\\\n",
       "\t ZA011 &  9.3 & 0.037 &  88.20 & 0.092\\\\\n",
       "\t ZA012 &  5.1 & 0.010 & 100.92 & 0.126\\\\\n",
       "\\end{tabular}\n"
      ],
      "text/markdown": [
       "\n",
       "A data.frame: 11 × 5\n",
       "\n",
       "| PID &lt;fct&gt; | age_preART &lt;dbl&gt; | OCI_preART &lt;dbl&gt; | age_onART &lt;dbl&gt; | OCI_onART &lt;dbl&gt; |\n",
       "|---|---|---|---|---|\n",
       "| ZA002 | 17.4 | 0.085 |  82.44 | 0.079 |\n",
       "| ZA003 |  1.8 | 0.040 |  96.72 | 0.161 |\n",
       "| ZA004 |  2.7 | 0.024 | 100.08 | 0.223 |\n",
       "| ZA005 |  6.0 | 0.027 |  96.48 | 0.166 |\n",
       "| ZA006 |  9.0 | 0.012 |  89.40 | 0.313 |\n",
       "| ZA007 |  9.9 | 0.070 |  98.88 | 0.403 |\n",
       "| ZA008 |  2.2 | 0.006 |  81.24 | 0.065 |\n",
       "| ZA009 |  2.0 | 0.021 | 109.56 | 0.055 |\n",
       "| ZA010 |  1.8 | 0.027 | 100.20 | 0.173 |\n",
       "| ZA011 |  9.3 | 0.037 |  88.20 | 0.092 |\n",
       "| ZA012 |  5.1 | 0.010 | 100.92 | 0.126 |\n",
       "\n"
      ],
      "text/plain": [
       "   PID   age_preART OCI_preART age_onART OCI_onART\n",
       "1  ZA002 17.4       0.085       82.44    0.079    \n",
       "2  ZA003  1.8       0.040       96.72    0.161    \n",
       "3  ZA004  2.7       0.024      100.08    0.223    \n",
       "4  ZA005  6.0       0.027       96.48    0.166    \n",
       "5  ZA006  9.0       0.012       89.40    0.313    \n",
       "6  ZA007  9.9       0.070       98.88    0.403    \n",
       "7  ZA008  2.2       0.006       81.24    0.065    \n",
       "8  ZA009  2.0       0.021      109.56    0.055    \n",
       "9  ZA010  1.8       0.027      100.20    0.173    \n",
       "10 ZA011  9.3       0.037       88.20    0.092    \n",
       "11 ZA012  5.1       0.010      100.92    0.126    "
      ]
     },
     "metadata": {},
     "output_type": "display_data"
    }
   ],
   "source": [
    "#Show OCI Data\n",
    "ISA_Summ.OCI\n"
   ]
  },
  {
   "cell_type": "code",
   "execution_count": 12,
   "metadata": {},
   "outputs": [],
   "source": [
    "#Reshape data for plotting\n",
    "ISA_Summ.OCI.plot <- data.frame(\n",
    "    PID = c(names(CHER_ISA.cond), names(CHER_ISA.cond)),\n",
    "    Age = c(ISA_Summ.OCI$age_preART, ISA_Summ.OCI$age_onART),\n",
    "    OCI = c(ISA_Summ.OCI$OCI_preART, ISA_Summ.OCI$OCI_onART),\n",
    "    row.names=NULL\n",
    ")\n",
    "\n"
   ]
  },
  {
   "cell_type": "code",
   "execution_count": 13,
   "metadata": {},
   "outputs": [
    {
     "data": {
      "image/png": "[encoded data removed]",
      "text/plain": [
       "plot without title"
      ]
     },
     "metadata": {},
     "output_type": "display_data"
    }
   ],
   "source": [
    "#Linear model of pre-ART OCI as a function of age\n",
    "#N.B. pre-ART age here is a surrogate for Duration of Infection\n",
    "fit <- lm(OCI ~ Age, data = ISA_Summ.OCI.plot[1:11,])\n",
    "\n",
    "#Visualize data\n",
    "f1a <- ggplot(fit$model, aes_string(x = names(fit$model)[2], y = names(fit$model)[1], col=ISA_Summ.OCI.plot$PID[1:11])) + \n",
    "    #Scatter plot\n",
    "    geom_point(size=3) +\n",
    "    \n",
    "    #Add trend line\n",
    "    stat_smooth(method = \"lm\", col = \"black\", se = F) +\n",
    "    \n",
    "    #Labeling\n",
    "    labs(\n",
    "         title=\"Duration of Infection correlates with OCI\",\n",
    "         subtitle = paste(\"Adj R2 = \",signif(summary(fit)$r.squared, 2),\n",
    "                          \" P =\",signif(summary(fit)$coef[2,4], 2)),\n",
    "         x= \"Duration of Infection (Months)\",\n",
    "         y=\"Oligoclonality Index\",\n",
    "         color=\"Patient ID\"\n",
    "        )+\n",
    "    scale_y_continuous(limits=c(0,0.1), breaks = seq(0,0.1,by = 0.02))+\n",
    "    scale_color_manual(values=colors)+\n",
    "    \n",
    "    #Adjust figure theme\n",
    "    theme_bw()+\n",
    "    theme(\n",
    "         panel.border = element_blank(), panel.grid.major = element_blank(),\n",
    "         panel.grid.minor = element_blank(),\n",
    "         axis.line = element_line(colour = \"black\")\n",
    "         )\n",
    "\n",
    "f1a"
   ]
  },
  {
   "cell_type": "code",
   "execution_count": 14,
   "metadata": {},
   "outputs": [
    {
     "data": {
      "image/png": "[encoded data removed]",
      "text/plain": [
       "plot without title"
      ]
     },
     "metadata": {},
     "output_type": "display_data"
    }
   ],
   "source": [
    "#Analysis of difference in OCI as a function of ART status\n",
    "fit.2 <- wilcox.test(ISA_Summ.OCI$OCI_preART, ISA_Summ.OCI$OCI_onART, paired = T, exact=T)\n",
    "\n",
    "#Visualize data\n",
    "f1b <- ggplot(data=ISA_Summ.OCI.plot, aes(x=Age, y=OCI, col=PID))+\n",
    "    \n",
    "    #Add lines between each OCI for each PID\n",
    "    geom_line(aes(group=PID), size =1)+\n",
    "    geom_point(size=3)+\n",
    "    \n",
    "    #Adjust Figure theme\n",
    "    theme_bw()+\n",
    "    theme(\n",
    "        panel.border = element_blank(), panel.grid.major = element_blank(),\n",
    "        panel.grid.minor = element_blank(),\n",
    "        axis.line = element_line(colour = \"black\")\n",
    "        )+\n",
    "    \n",
    "    #Labeling\n",
    "    labs(title=\"OCI Significantly Increases after Long-Term ART\",\n",
    "         subtitle=paste0(fit.2$method,\": p=\", signif( fit.2$p.value,3)),\n",
    "         x=\"Duration of Infection (Months)\",\n",
    "         y=\"Oligoclonality Index\",\n",
    "         color=\"Patient ID\"\n",
    "    )+\n",
    "    scale_color_manual(values=colors)+\n",
    "    scale_y_continuous(limits = c(0,0.5), breaks=seq(0,0.5,0.1))+\n",
    "    scale_x_continuous(limits=c(0,115), breaks=seq(0,115,25))\n",
    "\n",
    "#N.B. Astute observers will note that the statistical test doesn't exactly match the plotted values:\n",
    "#I.e. the x-axis is on a continuum rather than than grouped together as suggested by the statistical analysis\n",
    "#We chose to visualize the x-axis on a continuous scale to show that on-ART length does not correlate with OCI\n",
    "#although not calculated here, it is easily shown that R2 ~= 0 (p>0.05) for that analysis. However, the \n",
    "#OCI are dependent on ART status\n",
    "\n",
    "f1b"
   ]
  },
  {
   "cell_type": "code",
   "execution_count": 15,
   "metadata": {},
   "outputs": [],
   "source": [
    "#Handle Single-Run Patients versus Multi-Run Patients from RID dataset\n",
    "RID_ISA.split <- split(RID_ISA[, 2:6], RID_ISA$PID)\n",
    "\n",
    "\n",
    "#Get number of levels to determine if multi or single\n",
    "run_type.RID <- sapply(RID_ISA.split, function(x) nlevels(as.factor(x$Sample_run)))\n",
    "\n",
    "#Split single runs and remove \"Sample_run\" column\n",
    "RID_ISA.split.single <- RID_ISA.split[which(run_type.RID == 1)]\n",
    "RID_ISA.split.single <- lapply(RID_ISA.split.single, function(x) x[,2:5])\n",
    "\n",
    "#Split Multi runs\n",
    "RID_ISA.split.multi <- RID_ISA.split[which(run_type.RID > 1)]"
   ]
  },
  {
   "cell_type": "code",
   "execution_count": 16,
   "metadata": {},
   "outputs": [],
   "source": [
    "#Condense\n",
    "RID_ISA.sing.cond <- lapply(RID_ISA.split.single, isadata.condense.singlerun)\n",
    "\n",
    "RID_ISA.multi.cond <- lapply(RID_ISA.split.multi, isadata.condense.multirun)"
   ]
  },
  {
   "cell_type": "code",
   "execution_count": 17,
   "metadata": {},
   "outputs": [],
   "source": [
    "#Handle column differences\n",
    "RID_ISA.multi.cond <- lapply(RID_ISA.multi.cond, function(x) x[,c(1:3, ncol(x))])\n",
    "col.vec <- colnames(RID_ISA.sing.cond[[1]])\n",
    "RID_ISA.multi.cond <- lapply(RID_ISA.multi.cond, setNames, col.vec)\n",
    "\n",
    "RID_ISA.cond <- c(RID_ISA.multi.cond, RID_ISA.sing.cond)\n",
    "RID_ISA.OCI <- sapply(RID_ISA.cond, function(x) get.OCI(x$freq))"
   ]
  },
  {
   "cell_type": "code",
   "execution_count": 18,
   "metadata": {},
   "outputs": [
    {
     "data": {
      "text/html": [
       "<table>\n",
       "<caption>A data.frame: 20 × 3</caption>\n",
       "<thead>\n",
       "\t<tr><th scope=col>Cohort</th><th scope=col>PID</th><th scope=col>OCI</th></tr>\n",
       "\t<tr><th scope=col>&lt;fct&gt;</th><th scope=col>&lt;fct&gt;</th><th scope=col>&lt;dbl&gt;</th></tr>\n",
       "</thead>\n",
       "<tbody>\n",
       "\t<tr><td>Adults</td><td>1079 </td><td>0.05243075</td></tr>\n",
       "\t<tr><td>Adults</td><td>1683 </td><td>0.10294489</td></tr>\n",
       "\t<tr><td>Adults</td><td>2669 </td><td>0.24061207</td></tr>\n",
       "\t<tr><td>Adults</td><td>PT1  </td><td>0.26398842</td></tr>\n",
       "\t<tr><td>Adults</td><td>PT3  </td><td>0.26038624</td></tr>\n",
       "\t<tr><td>Adults</td><td>3720 </td><td>0.17734554</td></tr>\n",
       "\t<tr><td>Adults</td><td>PT2  </td><td>0.05555556</td></tr>\n",
       "\t<tr><td>Adults</td><td>PT4  </td><td>0.24140809</td></tr>\n",
       "\t<tr><td>Adults</td><td>PT5  </td><td>0.05017086</td></tr>\n",
       "\t<tr><td>CHER  </td><td>ZA002</td><td>0.07900000</td></tr>\n",
       "\t<tr><td>CHER  </td><td>ZA003</td><td>0.16100000</td></tr>\n",
       "\t<tr><td>CHER  </td><td>ZA004</td><td>0.22300000</td></tr>\n",
       "\t<tr><td>CHER  </td><td>ZA005</td><td>0.16600000</td></tr>\n",
       "\t<tr><td>CHER  </td><td>ZA006</td><td>0.31300000</td></tr>\n",
       "\t<tr><td>CHER  </td><td>ZA007</td><td>0.40300000</td></tr>\n",
       "\t<tr><td>CHER  </td><td>ZA008</td><td>0.06500000</td></tr>\n",
       "\t<tr><td>CHER  </td><td>ZA009</td><td>0.05500000</td></tr>\n",
       "\t<tr><td>CHER  </td><td>ZA010</td><td>0.17300000</td></tr>\n",
       "\t<tr><td>CHER  </td><td>ZA011</td><td>0.09200000</td></tr>\n",
       "\t<tr><td>CHER  </td><td>ZA012</td><td>0.12600000</td></tr>\n",
       "</tbody>\n",
       "</table>\n"
      ],
      "text/latex": [
       "A data.frame: 20 × 3\n",
       "\\begin{tabular}{r|lll}\n",
       " Cohort & PID & OCI\\\\\n",
       " <fct> & <fct> & <dbl>\\\\\n",
       "\\hline\n",
       "\t Adults & 1079  & 0.05243075\\\\\n",
       "\t Adults & 1683  & 0.10294489\\\\\n",
       "\t Adults & 2669  & 0.24061207\\\\\n",
       "\t Adults & PT1   & 0.26398842\\\\\n",
       "\t Adults & PT3   & 0.26038624\\\\\n",
       "\t Adults & 3720  & 0.17734554\\\\\n",
       "\t Adults & PT2   & 0.05555556\\\\\n",
       "\t Adults & PT4   & 0.24140809\\\\\n",
       "\t Adults & PT5   & 0.05017086\\\\\n",
       "\t CHER   & ZA002 & 0.07900000\\\\\n",
       "\t CHER   & ZA003 & 0.16100000\\\\\n",
       "\t CHER   & ZA004 & 0.22300000\\\\\n",
       "\t CHER   & ZA005 & 0.16600000\\\\\n",
       "\t CHER   & ZA006 & 0.31300000\\\\\n",
       "\t CHER   & ZA007 & 0.40300000\\\\\n",
       "\t CHER   & ZA008 & 0.06500000\\\\\n",
       "\t CHER   & ZA009 & 0.05500000\\\\\n",
       "\t CHER   & ZA010 & 0.17300000\\\\\n",
       "\t CHER   & ZA011 & 0.09200000\\\\\n",
       "\t CHER   & ZA012 & 0.12600000\\\\\n",
       "\\end{tabular}\n"
      ],
      "text/markdown": [
       "\n",
       "A data.frame: 20 × 3\n",
       "\n",
       "| Cohort &lt;fct&gt; | PID &lt;fct&gt; | OCI &lt;dbl&gt; |\n",
       "|---|---|---|\n",
       "| Adults | 1079  | 0.05243075 |\n",
       "| Adults | 1683  | 0.10294489 |\n",
       "| Adults | 2669  | 0.24061207 |\n",
       "| Adults | PT1   | 0.26398842 |\n",
       "| Adults | PT3   | 0.26038624 |\n",
       "| Adults | 3720  | 0.17734554 |\n",
       "| Adults | PT2   | 0.05555556 |\n",
       "| Adults | PT4   | 0.24140809 |\n",
       "| Adults | PT5   | 0.05017086 |\n",
       "| CHER   | ZA002 | 0.07900000 |\n",
       "| CHER   | ZA003 | 0.16100000 |\n",
       "| CHER   | ZA004 | 0.22300000 |\n",
       "| CHER   | ZA005 | 0.16600000 |\n",
       "| CHER   | ZA006 | 0.31300000 |\n",
       "| CHER   | ZA007 | 0.40300000 |\n",
       "| CHER   | ZA008 | 0.06500000 |\n",
       "| CHER   | ZA009 | 0.05500000 |\n",
       "| CHER   | ZA010 | 0.17300000 |\n",
       "| CHER   | ZA011 | 0.09200000 |\n",
       "| CHER   | ZA012 | 0.12600000 |\n",
       "\n"
      ],
      "text/plain": [
       "   Cohort PID   OCI       \n",
       "1  Adults 1079  0.05243075\n",
       "2  Adults 1683  0.10294489\n",
       "3  Adults 2669  0.24061207\n",
       "4  Adults PT1   0.26398842\n",
       "5  Adults PT3   0.26038624\n",
       "6  Adults 3720  0.17734554\n",
       "7  Adults PT2   0.05555556\n",
       "8  Adults PT4   0.24140809\n",
       "9  Adults PT5   0.05017086\n",
       "10 CHER   ZA002 0.07900000\n",
       "11 CHER   ZA003 0.16100000\n",
       "12 CHER   ZA004 0.22300000\n",
       "13 CHER   ZA005 0.16600000\n",
       "14 CHER   ZA006 0.31300000\n",
       "15 CHER   ZA007 0.40300000\n",
       "16 CHER   ZA008 0.06500000\n",
       "17 CHER   ZA009 0.05500000\n",
       "18 CHER   ZA010 0.17300000\n",
       "19 CHER   ZA011 0.09200000\n",
       "20 CHER   ZA012 0.12600000"
      ]
     },
     "metadata": {},
     "output_type": "display_data"
    }
   ],
   "source": [
    "#Make Data frame for plotting\n",
    "Cohort_OCI.comp <- data.frame(\n",
    "    Cohort=c(rep(\"Adults\", 9), rep(\"CHER\", 11)),\n",
    "    PID=c(names(RID_ISA.cond), CHER_age$PID),\n",
    "    OCI=c(RID_ISA.OCI, ISA_Summ.OCI$OCI_onART)    \n",
    ")\n",
    "\n",
    "Cohort_OCI.comp"
   ]
  },
  {
   "cell_type": "code",
   "execution_count": 19,
   "metadata": {},
   "outputs": [
    {
     "data": {
      "image/png": "[encoded data removed]",
      "text/plain": [
       "plot without title"
      ]
     },
     "metadata": {},
     "output_type": "display_data"
    }
   ],
   "source": [
    "#Analysis of Difference between Adult OCI and CHER OCI\n",
    "fit.3 <- wilcox.test(Cohort_OCI.comp$OCI[1:9], Cohort_OCI.comp$OCI[10:20], exact = T, paired = F)\n",
    "\n",
    "#Make Plot\n",
    "f2 <- ggplot(data = Cohort_OCI.comp, aes(x=Cohort, y=OCI))+\n",
    "    #Plot Data and add median bars\n",
    "    geom_point(aes(color=PID), size = 4, position=position_jitterdodge(jitter.width=0.15, dodge.width=0.35))+\n",
    "    stat_summary(fun.y = median, fun.ymin = median, fun.ymax = median,\n",
    "                geom=\"crossbar\", width = 0.3, color = \"red\")+\n",
    "    \n",
    "    #Customize Axis/plot labels\n",
    "    scale_x_discrete(limits=c(\"CHER\", \"Adults\"))+\n",
    "    scale_y_continuous(limits=range(0,0.5), breaks=seq(0, 0.5, 0.1))+\n",
    "    scale_color_manual(values=c(rep(\"black\", 9), colors), breaks=CHER_age$PID, labels=CHER_age$PID)+\n",
    "    labs(\n",
    "        title=\"On-ART OCI values are not different in children and adults\",\n",
    "        subtitle=paste0(\"Mann-Whitney U Test: p=\", fit.3$p.value),\n",
    "        x=\"Patient Cohort\",\n",
    "        y=\"Oligoclonality Index\",\n",
    "        color=\"CHER Patient ID\"\n",
    "    )+\n",
    "\n",
    "    #Make look nicer\n",
    "    theme_bw()+\n",
    "    theme(\n",
    "        panel.border = element_blank(), panel.grid.major = element_blank(),\n",
    "        panel.grid.minor = element_blank(),\n",
    "        axis.line = element_line(color = \"black\")\n",
    "    )\n",
    "\n",
    "f2"
   ]
  },
  {
   "cell_type": "code",
   "execution_count": 20,
   "metadata": {},
   "outputs": [],
   "source": [
    "#Functions for handling Sequence Data for OCI\n",
    "\n",
    "\n",
    "#Main function to calculate OCI from sequence data\n",
    "getSeqOCI <- function(seqSet, model=\"raw\") {\n",
    "\n",
    "    #Assumed all sequences are of same length in the set \n",
    "    #Can be changed to get average length or pairwise lengths\n",
    "    seqLen <- length(seqSet[[1]])\n",
    "    numSeqs <- length(seqSet)\n",
    "    #Get pairwise Hamming Distance Matrix\n",
    "    distMatrix <- dist.dna(as.DNAbin(seqSet), model=model, pairwise.deletion = T, as.matrix = T)\n",
    "    distMatrix <- distMatrix * seqLen\n",
    "    \n",
    "    #Determine identical rake sizes using getRakeList function\n",
    "    rake_list <- getRakeList(distMatrix, numSeqs)\n",
    "    rakeCount <- unname(sapply(rake_list, length))\n",
    "    \n",
    "    #Fill in unique sequences with 1's to the data set size\n",
    "    varCounts <- c(rakeCount, rep(1, numSeqs - sum(rakeCount)))\n",
    "\n",
    "    #Calculate OCI using function from earlier\n",
    "    seqOCI <- get.OCI(varCounts)\n",
    "\n",
    "    return(seqOCI)\n",
    "\n",
    "}\n",
    "\n",
    "#Auxiliary function for determining rakes\n",
    "#function adapted from prob_identical.r at https://github.com/michaelbale/prob_identical\n",
    "getRakeList <- function(distMatrix, numSeqs) {\n",
    "\n",
    "    rake_list <- list()    \n",
    "\n",
    "    #Main Looping structure\n",
    "    for(i in 2:numSeqs){\n",
    "      \n",
    "      #rake dummy variable\n",
    "      in_rake = FALSE\n",
    "      \n",
    "      #If sequence is unique, go to next sequence\n",
    "      if(sum(distMatrix[i-1,i:numSeqs] <0.5) == 0)\n",
    "        next\n",
    "      else{\n",
    "        \n",
    "        if(length(rake_list) > 0){\n",
    "          #Create new Rake\n",
    "          for(j in 1:length(rake_list)){\n",
    "            if(dimnames(distMatrix)[[1]][i-1] %in% rake_list[[j]]) {\n",
    "              in_rake = TRUE\n",
    "              break\n",
    "            }\n",
    "          }\n",
    "          if(in_rake) next\n",
    "        }\n",
    "        #add sequence to Rake ID\n",
    "        rake_list[[paste0(\"rake\",as.character(length(rake_list)+1))]] <- dimnames(distMatrix)[[1]][distMatrix[(i-1),1:numSeqs] == 0]\n",
    "      }\n",
    "    }\n",
    "    return(rake_list)\n",
    "\n",
    "}\n",
    "\n",
    "#Load in Sequences from file using ape library\n",
    "getSeqSet <- function(inPath, format=\"fasta\") {\n",
    "\n",
    "    require(ape)\n",
    "    if(!file.exists(inPath)) { stop(\"Supplied File does not exist\") }\n",
    "    sequences <- ape::read.dna(inPath, format=format, as.character = T, as.matrix = F)\n",
    "    \n",
    "    return(sequences)\n",
    "\n",
    "}"
   ]
  },
  {
   "cell_type": "code",
   "execution_count": 21,
   "metadata": {},
   "outputs": [
    {
     "name": "stderr",
     "output_type": "stream",
     "text": [
      "Loading required package: ape\n",
      "\n",
      "Attaching package: 'ape'\n",
      "\n",
      "The following object is masked from 'package:VennDiagram':\n",
      "\n",
      "    rotate\n",
      "\n",
      "The following object is masked from 'package:Biostrings':\n",
      "\n",
      "    complement\n",
      "\n",
      "The following object is masked from 'package:ggpubr':\n",
      "\n",
      "    rotate\n",
      "\n"
     ]
    }
   ],
   "source": [
    "#Get Sequence File Names\n",
    "CHER.seqDataFiles <- paste(getwd(), \"CHER_seqData\", dir(\"./CHER_seqData\"), sep=\"/\")\n",
    "\n",
    "#Load Data\n",
    "CHER.seqData <- sapply(CHER.seqDataFiles, getSeqSet)\n",
    "\n",
    "#Calculate OCI\n",
    "CHER.seqOCI <- sapply(CHER.seqData, getSeqOCI)\n",
    "\n",
    "#library(ape) loaded in background"
   ]
  },
  {
   "cell_type": "code",
   "execution_count": 22,
   "metadata": {},
   "outputs": [
    {
     "data": {
      "text/html": [
       "<table>\n",
       "<caption>A data.frame: 11 × 6</caption>\n",
       "<thead>\n",
       "\t<tr><th scope=col>PID</th><th scope=col>age_preART</th><th scope=col>OCI_preART</th><th scope=col>age_onART</th><th scope=col>OCI_onART</th><th scope=col>seqOCI</th></tr>\n",
       "\t<tr><th scope=col>&lt;fct&gt;</th><th scope=col>&lt;dbl&gt;</th><th scope=col>&lt;dbl&gt;</th><th scope=col>&lt;dbl&gt;</th><th scope=col>&lt;dbl&gt;</th><th scope=col>&lt;dbl&gt;</th></tr>\n",
       "</thead>\n",
       "<tbody>\n",
       "\t<tr><td>ZA002</td><td>17.4</td><td>0.085</td><td> 82.44</td><td>0.079</td><td>   NA</td></tr>\n",
       "\t<tr><td>ZA003</td><td> 1.8</td><td>0.040</td><td> 96.72</td><td>0.161</td><td>0.714</td></tr>\n",
       "\t<tr><td>ZA004</td><td> 2.7</td><td>0.024</td><td>100.08</td><td>0.223</td><td>0.547</td></tr>\n",
       "\t<tr><td>ZA005</td><td> 6.0</td><td>0.027</td><td> 96.48</td><td>0.166</td><td>0.403</td></tr>\n",
       "\t<tr><td>ZA006</td><td> 9.0</td><td>0.012</td><td> 89.40</td><td>0.313</td><td>0.450</td></tr>\n",
       "\t<tr><td>ZA007</td><td> 9.9</td><td>0.070</td><td> 98.88</td><td>0.403</td><td>0.648</td></tr>\n",
       "\t<tr><td>ZA008</td><td> 2.2</td><td>0.006</td><td> 81.24</td><td>0.065</td><td>0.516</td></tr>\n",
       "\t<tr><td>ZA009</td><td> 2.0</td><td>0.021</td><td>109.56</td><td>0.055</td><td>0.217</td></tr>\n",
       "\t<tr><td>ZA010</td><td> 1.8</td><td>0.027</td><td>100.20</td><td>0.173</td><td>0.500</td></tr>\n",
       "\t<tr><td>ZA011</td><td> 9.3</td><td>0.037</td><td> 88.20</td><td>0.092</td><td>   NA</td></tr>\n",
       "\t<tr><td>ZA012</td><td> 5.1</td><td>0.010</td><td>100.92</td><td>0.126</td><td>   NA</td></tr>\n",
       "</tbody>\n",
       "</table>\n"
      ],
      "text/latex": [
       "A data.frame: 11 × 6\n",
       "\\begin{tabular}{r|llllll}\n",
       " PID & age\\_preART & OCI\\_preART & age\\_onART & OCI\\_onART & seqOCI\\\\\n",
       " <fct> & <dbl> & <dbl> & <dbl> & <dbl> & <dbl>\\\\\n",
       "\\hline\n",
       "\t ZA002 & 17.4 & 0.085 &  82.44 & 0.079 &    NA\\\\\n",
       "\t ZA003 &  1.8 & 0.040 &  96.72 & 0.161 & 0.714\\\\\n",
       "\t ZA004 &  2.7 & 0.024 & 100.08 & 0.223 & 0.547\\\\\n",
       "\t ZA005 &  6.0 & 0.027 &  96.48 & 0.166 & 0.403\\\\\n",
       "\t ZA006 &  9.0 & 0.012 &  89.40 & 0.313 & 0.450\\\\\n",
       "\t ZA007 &  9.9 & 0.070 &  98.88 & 0.403 & 0.648\\\\\n",
       "\t ZA008 &  2.2 & 0.006 &  81.24 & 0.065 & 0.516\\\\\n",
       "\t ZA009 &  2.0 & 0.021 & 109.56 & 0.055 & 0.217\\\\\n",
       "\t ZA010 &  1.8 & 0.027 & 100.20 & 0.173 & 0.500\\\\\n",
       "\t ZA011 &  9.3 & 0.037 &  88.20 & 0.092 &    NA\\\\\n",
       "\t ZA012 &  5.1 & 0.010 & 100.92 & 0.126 &    NA\\\\\n",
       "\\end{tabular}\n"
      ],
      "text/markdown": [
       "\n",
       "A data.frame: 11 × 6\n",
       "\n",
       "| PID &lt;fct&gt; | age_preART &lt;dbl&gt; | OCI_preART &lt;dbl&gt; | age_onART &lt;dbl&gt; | OCI_onART &lt;dbl&gt; | seqOCI &lt;dbl&gt; |\n",
       "|---|---|---|---|---|---|\n",
       "| ZA002 | 17.4 | 0.085 |  82.44 | 0.079 |    NA |\n",
       "| ZA003 |  1.8 | 0.040 |  96.72 | 0.161 | 0.714 |\n",
       "| ZA004 |  2.7 | 0.024 | 100.08 | 0.223 | 0.547 |\n",
       "| ZA005 |  6.0 | 0.027 |  96.48 | 0.166 | 0.403 |\n",
       "| ZA006 |  9.0 | 0.012 |  89.40 | 0.313 | 0.450 |\n",
       "| ZA007 |  9.9 | 0.070 |  98.88 | 0.403 | 0.648 |\n",
       "| ZA008 |  2.2 | 0.006 |  81.24 | 0.065 | 0.516 |\n",
       "| ZA009 |  2.0 | 0.021 | 109.56 | 0.055 | 0.217 |\n",
       "| ZA010 |  1.8 | 0.027 | 100.20 | 0.173 | 0.500 |\n",
       "| ZA011 |  9.3 | 0.037 |  88.20 | 0.092 |    NA |\n",
       "| ZA012 |  5.1 | 0.010 | 100.92 | 0.126 |    NA |\n",
       "\n"
      ],
      "text/plain": [
       "   PID   age_preART OCI_preART age_onART OCI_onART seqOCI\n",
       "1  ZA002 17.4       0.085       82.44    0.079        NA \n",
       "2  ZA003  1.8       0.040       96.72    0.161     0.714 \n",
       "3  ZA004  2.7       0.024      100.08    0.223     0.547 \n",
       "4  ZA005  6.0       0.027       96.48    0.166     0.403 \n",
       "5  ZA006  9.0       0.012       89.40    0.313     0.450 \n",
       "6  ZA007  9.9       0.070       98.88    0.403     0.648 \n",
       "7  ZA008  2.2       0.006       81.24    0.065     0.516 \n",
       "8  ZA009  2.0       0.021      109.56    0.055     0.217 \n",
       "9  ZA010  1.8       0.027      100.20    0.173     0.500 \n",
       "10 ZA011  9.3       0.037       88.20    0.092        NA \n",
       "11 ZA012  5.1       0.010      100.92    0.126        NA "
      ]
     },
     "metadata": {},
     "output_type": "display_data"
    }
   ],
   "source": [
    "#Combine SGS-Based OCI with previous data.frame\n",
    "ISA_Summ.OCI$seqOCI <- c(NA, round(CHER.seqOCI, 3), NA, NA)\n",
    "\n",
    "ISA_Summ.OCI"
   ]
  },
  {
   "cell_type": "code",
   "execution_count": 23,
   "metadata": {},
   "outputs": [],
   "source": [
    "#Create Data frame for SGS-based OCI vs ISA-based OCI comparison\n",
    "CHER_OCI.comp <-\n",
    "    ISA_Summ.OCI %>%\n",
    "    #group table by PID\n",
    "    group_by(PID) %>%\n",
    "    #Remove Patients with SGS-based OCI\n",
    "    drop_na() %>%\n",
    "    #Reshape resulting dataframe\n",
    "    melt(id.vars=\"PID\") %>%\n",
    "    #Keep only the OCI data\n",
    "    filter(variable %in% c(\"OCI_onART\", \"seqOCI\")) %>%\n",
    "    #Rename columns from melt command\n",
    "    dplyr::rename(OCI_type = variable, OCI = value)"
   ]
  },
  {
   "cell_type": "code",
   "execution_count": 24,
   "metadata": {},
   "outputs": [
    {
     "data": {
      "image/png": "[encoded data removed]",
      "text/plain": [
       "plot without title"
      ]
     },
     "metadata": {},
     "output_type": "display_data"
    }
   ],
   "source": [
    "#Analysis of SGS-based OCI vs ISA-based OCI\n",
    "fit.4 <- wilcox.test(ISA_Summ.OCI$OCI_onART[2:9], ISA_Summ.OCI$seqOCI[2:9], paired=T, exact = T)\n",
    "\n",
    "#Make Plot\n",
    "f5 <- ggplot(data = CHER_OCI.comp, aes(x=OCI_type, y=OCI))+\n",
    "    #Add data and median bars\n",
    "    geom_point(aes(color=PID), size=4, position=position_jitterdodge(jitter.width = 0.15, dodge.width = 0.35))+\n",
    "    stat_summary(fun.y = median, fun.ymin = median, fun.ymax=median,\n",
    "                 geom=\"crossbar\", width = 0.3, color= \"red\")+\n",
    "    \n",
    "    #Customize Axis/plot labels\n",
    "    scale_color_manual(values=colors[2:9])+\n",
    "    labs(\n",
    "        title=\"Sequence-based OCI is significantly higher than ISA-based OCI\",\n",
    "        subtitle=paste0(\"Wilcoxon Signed Rank Test: p=\", signif(fit.4$p.value, 2)),\n",
    "        x=\"Data Type\",\n",
    "        y=\"Oligoclonality Index\",\n",
    "        color=\"Patient ID\"\n",
    "    )+\n",
    "    scale_x_discrete(labels=c(\"On-ART SGS\", \"On-ART ISA\"), limits=c(\"seqOCI\",\"OCI_onART\"))+\n",
    "    scale_y_continuous(limits = range(0,0.8), breaks=seq(0, 0.8, 0.2))+\n",
    "    \n",
    "    #Make look nicer\n",
    "    theme_bw()+\n",
    "    theme(\n",
    "        panel.border = element_blank(), panel.grid.major = element_blank(),\n",
    "        panel.grid.minor = element_blank(),\n",
    "        axis.line = element_line(colour = \"black\")\n",
    "    )\n",
    "\n",
    "f5"
   ]
  },
  {
   "cell_type": "code",
   "execution_count": 25,
   "metadata": {},
   "outputs": [],
   "source": [
    "#Selection and Enrichment analysis of in vivo libraries versus ex vivo library\n",
    "\n",
    "#get hg19 dataset\n",
    "txdb <- TxDb.Hsapiens.UCSC.hg19.knownGene\n",
    "#retain only genes\n",
    "hg19.genes <- genes(txdb)\n",
    "\n",
    "#Data manipulation to remove unscaffolded and unknown regions\n",
    "hg19 <- data.frame(\n",
    "    seqnames = seqnames(hg19.genes),\n",
    "    txStart = start(hg19.genes) - 1,\n",
    "    txEnd = end(hg19.genes),\n",
    "    strand = strand(hg19.genes),\n",
    "    gene_id = hg19.genes$gene_id\n",
    ")\n",
    "\n",
    "hg19.edit <- hg19 %>%\n",
    "    filter(seqnames %in% c(paste0(\"chr\", 1:22), \"chrX\", \"chrY\"))\n",
    "\n",
    "#Create GRanges object for CHiPpeakAnno\n",
    "hg19.genes <- GRanges(seqnames = as.factor(as.character(hg19.edit$seqnames)),\n",
    "                      ranges=IRanges(start = hg19.edit$txStart, end = hg19.edit$txEnd, names = hg19.edit$gene_id),\n",
    "                      strand = hg19.edit$strand\n",
    "                      )\n",
    "#Manipulate PBMC library to retain only chromosomes 1 - 22 and X and Y\n",
    "PBMC_ISA.edit <- PBMC_ISA %>% filter(chr %in% c(paste0(\"chr\", 1:22), \"chrX\", \"chrY\"))\n",
    "\n",
    "#Create GRanges object for CHiPpeakAnno\n",
    "PBMC_ISA.GRanges <- GRanges(\n",
    "    seqnames=as.factor(as.character(PBMC_ISA.edit$chr)),\n",
    "    ranges=IRanges(start=PBMC_ISA.edit$bp_pseudo3LTR, end=PBMC_ISA.edit$bp_pseudo3LTR),\n",
    "    strand = PBMC_ISA.edit$provirus_orientation\n",
    ")\n",
    "\n",
    "#Map PBMC library\n",
    "PBMC.annotated <- annotatePeakInBatch(PBMC_ISA.GRanges, AnnotationData = hg19.genes, output=\"shortestDistance\", select=\"first\")"
   ]
  },
  {
   "cell_type": "code",
   "execution_count": 26,
   "metadata": {},
   "outputs": [],
   "source": [
    "#Manipulate condensed ISA data for mapping to genic regions\n",
    "CHER_ISA.agg <- dplyr::bind_rows(CHER_ISA.cond)\n",
    "CHER_ISA.agg <- CHER_ISA.agg %>% filter(chr %in% c(paste0(\"chr\", 1:22), \"chrX\", \"chrY\"))\n",
    "\n",
    "#separate pre-ART data\n",
    "CHER_ISA.pre <- CHER_ISA.agg %>% filter(freq_preART > 0) %>% dplyr::select(chr, bp_pseudo3LTR, provirus_orientation)\n",
    "CHER_ISA.pre$bp_pseudo3LTR <- as.numeric(CHER_ISA.pre$bp_pseudo3LTR)\n",
    "\n",
    "#separate on-ART data\n",
    "CHER_ISA.on  <- CHER_ISA.agg %>% filter(freq_onART > 0) %>% dplyr::select(chr, bp_pseudo3LTR, provirus_orientation)\n",
    "CHER_ISA.on$bp_pseudo3LTR <- as.numeric(CHER_ISA.on$bp_pseudo3LTR)"
   ]
  },
  {
   "cell_type": "code",
   "execution_count": 27,
   "metadata": {},
   "outputs": [],
   "source": [
    "#Create pre-ART GRanges object\n",
    "CHERpre.GRanges <- GRanges(\n",
    "    seqnames=as.factor(as.character(CHER_ISA.pre$chr)),\n",
    "    ranges=IRanges(start = CHER_ISA.pre$bp_pseudo3LTR, end = CHER_ISA.pre$bp_pseudo3LTR),\n",
    "    strand = CHER_ISA.pre$provirus_orientation\n",
    ")\n",
    "\n",
    "#Create on-ART GRanges object\n",
    "CHERon.GRanges <- GRanges(\n",
    "    seqnames=as.factor(as.character(CHER_ISA.on$chr)),\n",
    "    ranges=IRanges(start = CHER_ISA.on$bp_pseudo3LTR, end = CHER_ISA.on$bp_pseudo3LTR),\n",
    "    strand=CHER_ISA.on$provirus_orientation\n",
    ")\n",
    "\n",
    "#Map pre-ART data\n",
    "CHERpre.anno <- annotatePeakInBatch(CHERpre.GRanges, AnnotationData = hg19.genes, output = \"shortestDistance\", select = \"first\")\n",
    "#Map on-ART data\n",
    "CHERon.anno  <- annotatePeakInBatch(CHERon.GRanges, AnnotationData = hg19.genes, output = \"shortestDistance\", select = \"first\")"
   ]
  },
  {
   "cell_type": "code",
   "execution_count": 28,
   "metadata": {},
   "outputs": [],
   "source": [
    "#convert to dataframes\n",
    "PBMC_map.df <- data.frame(\n",
    "    #Factor column for downstream analyses\n",
    "    sample = \"PBMC\",\n",
    "    \n",
    "    #IS information\n",
    "    seqnames = seqnames(PBMC.annotated),\n",
    "    IS = start(PBMC.annotated) - 1,\n",
    "    IS_strand = strand(PBMC.annotated),\n",
    "    \n",
    "    #Host Information\n",
    "    Gene = getSYMBOL(PBMC.annotated$feature, data='org.Hs.eg'),\n",
    "    Gene_strand = PBMC.annotated$feature_strand,\n",
    "    Genic_designation = PBMC.annotated$insideFeature,\n",
    "    Gene_length = abs(PBMC.annotated$start_position - PBMC.annotated$end_position),\n",
    "    dist_to_feature = abs(PBMC.annotated$distancetoFeature)\n",
    "    \n",
    ")\n",
    "\n",
    "CHERpre_map.df <- data.frame(\n",
    "    #Same Scheme as above\n",
    "    sample = \"CHERpre\",\n",
    "    seqnames = seqnames(CHERpre.anno),\n",
    "    IS = start(CHERpre.anno) - 1,\n",
    "    IS_strand = strand(CHERpre.anno),\n",
    "    Gene = getSYMBOL(CHERpre.anno$feature, data='org.Hs.eg'),\n",
    "    Gene_strand = CHERpre.anno$feature_strand,\n",
    "    Genic_designation = CHERpre.anno$insideFeature,\n",
    "    Gene_length = abs(CHERpre.anno$start_position - CHERpre.anno$end_position),\n",
    "    dist_to_feature = abs(CHERpre.anno$distancetoFeature)\n",
    ")\n",
    "\n",
    "CHERon_map.df <- data.frame(\n",
    "    #Same Scheme as above\n",
    "    sample = \"CHERon\",\n",
    "    seqnames = seqnames(CHERon.anno),\n",
    "    IS = start(CHERon.anno) - 1,\n",
    "    IS_strand = strand(CHERon.anno),\n",
    "    Gene = getSYMBOL(CHERon.anno$feature, data='org.Hs.eg'),\n",
    "    Gene_strand = CHERon.anno$feature_strand,\n",
    "    Genic_designation = CHERon.anno$insideFeature,\n",
    "    Gene_length = abs(CHERon.anno$start_position - CHERon.anno$end_position),\n",
    "    dist_to_feature = abs(CHERon.anno$distancetoFeature)\n",
    ")\n",
    "\n",
    "#Remove factors\n",
    "PBMC_map.df <- as.data.frame(apply(PBMC_map.df, 2, as.character), stringsAsFactors=FALSE)\n",
    "CHERpre_map.df <- as.data.frame(apply(CHERpre_map.df, 2, as.character), stringsAsFactors=FALSE)\n",
    "CHERon_map.df <- as.data.frame(apply(CHERon_map.df, 2, as.character), stringsAsFactors=FALSE)"
   ]
  },
  {
   "cell_type": "code",
   "execution_count": 29,
   "metadata": {},
   "outputs": [
    {
     "data": {
      "text/html": [
       "87.2"
      ],
      "text/latex": [
       "87.2"
      ],
      "text/markdown": [
       "87.2"
      ],
      "text/plain": [
       "[1] 87.2"
      ]
     },
     "metadata": {},
     "output_type": "display_data"
    },
    {
     "data": {
      "text/html": [
       "83.9"
      ],
      "text/latex": [
       "83.9"
      ],
      "text/markdown": [
       "83.9"
      ],
      "text/plain": [
       "[1] 83.9"
      ]
     },
     "metadata": {},
     "output_type": "display_data"
    },
    {
     "data": {
      "text/html": [
       "76.8"
      ],
      "text/latex": [
       "76.8"
      ],
      "text/markdown": [
       "76.8"
      ],
      "text/plain": [
       "[1] 76.8"
      ]
     },
     "metadata": {},
     "output_type": "display_data"
    }
   ],
   "source": [
    "#Retain genic integrations only\n",
    "CHERon_genes.df <- CHERon_map.df %>% filter(Genic_designation == \"inside\")\n",
    "CHERpre_genes.df <- CHERpre_map.df %>% filter(Genic_designation == \"inside\")\n",
    "PBMC_genes.df <- PBMC_map.df %>% filter(Genic_designation == \"inside\")\n",
    "\n",
    "#Percent Genic integrations\n",
    "signif(nrow(PBMC_genes.df)/nrow(PBMC_map.df)*100, 3)\n",
    "\n",
    "signif(nrow(CHERpre_genes.df)/nrow(CHERpre_map.df)*100, 3)\n",
    "\n",
    "signif(nrow(CHERon_genes.df)/nrow(CHERon_map.df)*100, 3)"
   ]
  },
  {
   "cell_type": "code",
   "execution_count": 30,
   "metadata": {},
   "outputs": [],
   "source": [
    "#Bind PBMC and pre-ART mapped data.frames for selection/enrichment analyses\n",
    "CHERpre_genes.PBMC <- rbind(CHERpre_genes.df, PBMC_genes.df)\n",
    "\n",
    "#Bind PBMC and on-ART mapped data.frames for selection/enrichment analyses\n",
    "CHERon_genes.PBMC <- rbind(CHERon_genes.df, PBMC_genes.df)"
   ]
  },
  {
   "cell_type": "code",
   "execution_count": 31,
   "metadata": {},
   "outputs": [],
   "source": [
    "#fisherTest function for dplyr\n",
    "fisherTest <- function(w1, w2, a1, a2) {\n",
    "    w1 <- unlist(w1)\n",
    "    w1 <- as.numeric(w1)\n",
    "    w2 <- unlist(w2)\n",
    "    w2 <- as.numeric(w2)\n",
    "    a1 <- unlist(a1)\n",
    "    a1 <- as.numeric(a1)\n",
    "    a2 <- unlist(a2)\n",
    "    a2 <- as.numeric(a2)\n",
    "    \n",
    "    mat <- matrix(c(w1, w2, a1, a2), nrow=2)\n",
    "    ft <- fisher.test(mat)\n",
    "    ft$p.value\n",
    "}"
   ]
  },
  {
   "cell_type": "code",
   "execution_count": 32,
   "metadata": {},
   "outputs": [
    {
     "data": {
      "text/html": [
       "<table>\n",
       "<caption>A tibble: 18 × 10</caption>\n",
       "<thead>\n",
       "\t<tr><th scope=col>seqnames</th><th scope=col>Gene</th><th scope=col>PBMC_with</th><th scope=col>PBMC_against</th><th scope=col>PBMC_total</th><th scope=col>CHERpre_with</th><th scope=col>CHERpre_against</th><th scope=col>CHERpre_total</th><th scope=col>p.val.raw</th><th scope=col>p.val.adj</th></tr>\n",
       "\t<tr><th scope=col>&lt;chr&gt;</th><th scope=col>&lt;chr&gt;</th><th scope=col>&lt;int&gt;</th><th scope=col>&lt;int&gt;</th><th scope=col>&lt;int&gt;</th><th scope=col>&lt;int&gt;</th><th scope=col>&lt;int&gt;</th><th scope=col>&lt;int&gt;</th><th scope=col>&lt;dbl&gt;</th><th scope=col>&lt;dbl&gt;</th></tr>\n",
       "</thead>\n",
       "<tbody>\n",
       "\t<tr><td>chr6 </td><td>BACH2  </td><td> 60</td><td> 72</td><td> 132</td><td>26</td><td> 5</td><td>31</td><td>0.0001058293</td><td>0.001904928</td></tr>\n",
       "\t<tr><td>chr17</td><td>STAT5B </td><td>284</td><td>278</td><td> 562</td><td>24</td><td> 5</td><td>29</td><td>0.0008644214</td><td>0.007779793</td></tr>\n",
       "\t<tr><td>chr16</td><td>ANKRD11</td><td>380</td><td>403</td><td> 783</td><td> 3</td><td>16</td><td>19</td><td>0.0046806380</td><td>0.028083828</td></tr>\n",
       "\t<tr><td>chr22</td><td>HORMAD2</td><td>192</td><td>241</td><td> 433</td><td>11</td><td> 4</td><td>15</td><td>0.0340278290</td><td>0.153125231</td></tr>\n",
       "\t<tr><td>chrX </td><td>MECP2  </td><td>228</td><td>267</td><td> 495</td><td> 4</td><td>12</td><td>16</td><td>0.1264112860</td><td>0.455080629</td></tr>\n",
       "\t<tr><td>chr17</td><td>VMP1   </td><td>376</td><td>374</td><td> 750</td><td> 6</td><td>12</td><td>18</td><td>0.2324184331</td><td>0.522941475</td></tr>\n",
       "\t<tr><td>chr17</td><td>GRB2   </td><td>339</td><td>336</td><td> 675</td><td>11</td><td> 5</td><td>16</td><td>0.2053968175</td><td>0.522941475</td></tr>\n",
       "\t<tr><td>chr17</td><td>NPLOC4 </td><td>418</td><td>408</td><td> 826</td><td> 5</td><td>10</td><td>15</td><td>0.2036387690</td><td>0.522941475</td></tr>\n",
       "\t<tr><td>chr17</td><td>POLR2A </td><td>161</td><td>177</td><td> 338</td><td> 6</td><td>10</td><td>16</td><td>0.4560647880</td><td>0.820916618</td></tr>\n",
       "\t<tr><td>chr11</td><td>MALAT1 </td><td>113</td><td> 96</td><td> 209</td><td> 6</td><td> 9</td><td>15</td><td>0.4227021276</td><td>0.820916618</td></tr>\n",
       "\t<tr><td>chr11</td><td>PACS1  </td><td>852</td><td>821</td><td>1673</td><td>18</td><td>21</td><td>39</td><td>0.6280565550</td><td>0.839385555</td></tr>\n",
       "\t<tr><td>chr11</td><td>KDM2A  </td><td>806</td><td>724</td><td>1530</td><td> 9</td><td>10</td><td>19</td><td>0.6528554313</td><td>0.839385555</td></tr>\n",
       "\t<tr><td>chr19</td><td>CARD8  </td><td>331</td><td>315</td><td> 646</td><td>10</td><td> 7</td><td>17</td><td>0.6270167006</td><td>0.839385555</td></tr>\n",
       "\t<tr><td>chr19</td><td>VAV1   </td><td>255</td><td>222</td><td> 477</td><td> 7</td><td> 8</td><td>15</td><td>0.6119402010</td><td>0.839385555</td></tr>\n",
       "\t<tr><td>chr17</td><td>RPTOR  </td><td>820</td><td>807</td><td>1627</td><td>14</td><td>12</td><td>26</td><td>0.8439555493</td><td>0.893599993</td></tr>\n",
       "\t<tr><td>chr17</td><td>CYTH1  </td><td>352</td><td>363</td><td> 715</td><td>10</td><td> 9</td><td>19</td><td>0.8194205687</td><td>0.893599993</td></tr>\n",
       "\t<tr><td>chr22</td><td>TNRC6B </td><td>444</td><td>435</td><td> 879</td><td> 9</td><td>10</td><td>19</td><td>0.8205235646</td><td>0.893599993</td></tr>\n",
       "\t<tr><td>chr1 </td><td>ASH1L  </td><td>378</td><td>385</td><td> 763</td><td> 8</td><td> 9</td><td>17</td><td>1.0000000000</td><td>1.000000000</td></tr>\n",
       "</tbody>\n",
       "</table>\n"
      ],
      "text/latex": [
       "A tibble: 18 × 10\n",
       "\\begin{tabular}{r|llllllllll}\n",
       " seqnames & Gene & PBMC\\_with & PBMC\\_against & PBMC\\_total & CHERpre\\_with & CHERpre\\_against & CHERpre\\_total & p.val.raw & p.val.adj\\\\\n",
       " <chr> & <chr> & <int> & <int> & <int> & <int> & <int> & <int> & <dbl> & <dbl>\\\\\n",
       "\\hline\n",
       "\t chr6  & BACH2   &  60 &  72 &  132 & 26 &  5 & 31 & 0.0001058293 & 0.001904928\\\\\n",
       "\t chr17 & STAT5B  & 284 & 278 &  562 & 24 &  5 & 29 & 0.0008644214 & 0.007779793\\\\\n",
       "\t chr16 & ANKRD11 & 380 & 403 &  783 &  3 & 16 & 19 & 0.0046806380 & 0.028083828\\\\\n",
       "\t chr22 & HORMAD2 & 192 & 241 &  433 & 11 &  4 & 15 & 0.0340278290 & 0.153125231\\\\\n",
       "\t chrX  & MECP2   & 228 & 267 &  495 &  4 & 12 & 16 & 0.1264112860 & 0.455080629\\\\\n",
       "\t chr17 & VMP1    & 376 & 374 &  750 &  6 & 12 & 18 & 0.2324184331 & 0.522941475\\\\\n",
       "\t chr17 & GRB2    & 339 & 336 &  675 & 11 &  5 & 16 & 0.2053968175 & 0.522941475\\\\\n",
       "\t chr17 & NPLOC4  & 418 & 408 &  826 &  5 & 10 & 15 & 0.2036387690 & 0.522941475\\\\\n",
       "\t chr17 & POLR2A  & 161 & 177 &  338 &  6 & 10 & 16 & 0.4560647880 & 0.820916618\\\\\n",
       "\t chr11 & MALAT1  & 113 &  96 &  209 &  6 &  9 & 15 & 0.4227021276 & 0.820916618\\\\\n",
       "\t chr11 & PACS1   & 852 & 821 & 1673 & 18 & 21 & 39 & 0.6280565550 & 0.839385555\\\\\n",
       "\t chr11 & KDM2A   & 806 & 724 & 1530 &  9 & 10 & 19 & 0.6528554313 & 0.839385555\\\\\n",
       "\t chr19 & CARD8   & 331 & 315 &  646 & 10 &  7 & 17 & 0.6270167006 & 0.839385555\\\\\n",
       "\t chr19 & VAV1    & 255 & 222 &  477 &  7 &  8 & 15 & 0.6119402010 & 0.839385555\\\\\n",
       "\t chr17 & RPTOR   & 820 & 807 & 1627 & 14 & 12 & 26 & 0.8439555493 & 0.893599993\\\\\n",
       "\t chr17 & CYTH1   & 352 & 363 &  715 & 10 &  9 & 19 & 0.8194205687 & 0.893599993\\\\\n",
       "\t chr22 & TNRC6B  & 444 & 435 &  879 &  9 & 10 & 19 & 0.8205235646 & 0.893599993\\\\\n",
       "\t chr1  & ASH1L   & 378 & 385 &  763 &  8 &  9 & 17 & 1.0000000000 & 1.000000000\\\\\n",
       "\\end{tabular}\n"
      ],
      "text/markdown": [
       "\n",
       "A tibble: 18 × 10\n",
       "\n",
       "| seqnames &lt;chr&gt; | Gene &lt;chr&gt; | PBMC_with &lt;int&gt; | PBMC_against &lt;int&gt; | PBMC_total &lt;int&gt; | CHERpre_with &lt;int&gt; | CHERpre_against &lt;int&gt; | CHERpre_total &lt;int&gt; | p.val.raw &lt;dbl&gt; | p.val.adj &lt;dbl&gt; |\n",
       "|---|---|---|---|---|---|---|---|---|---|\n",
       "| chr6  | BACH2   |  60 |  72 |  132 | 26 |  5 | 31 | 0.0001058293 | 0.001904928 |\n",
       "| chr17 | STAT5B  | 284 | 278 |  562 | 24 |  5 | 29 | 0.0008644214 | 0.007779793 |\n",
       "| chr16 | ANKRD11 | 380 | 403 |  783 |  3 | 16 | 19 | 0.0046806380 | 0.028083828 |\n",
       "| chr22 | HORMAD2 | 192 | 241 |  433 | 11 |  4 | 15 | 0.0340278290 | 0.153125231 |\n",
       "| chrX  | MECP2   | 228 | 267 |  495 |  4 | 12 | 16 | 0.1264112860 | 0.455080629 |\n",
       "| chr17 | VMP1    | 376 | 374 |  750 |  6 | 12 | 18 | 0.2324184331 | 0.522941475 |\n",
       "| chr17 | GRB2    | 339 | 336 |  675 | 11 |  5 | 16 | 0.2053968175 | 0.522941475 |\n",
       "| chr17 | NPLOC4  | 418 | 408 |  826 |  5 | 10 | 15 | 0.2036387690 | 0.522941475 |\n",
       "| chr17 | POLR2A  | 161 | 177 |  338 |  6 | 10 | 16 | 0.4560647880 | 0.820916618 |\n",
       "| chr11 | MALAT1  | 113 |  96 |  209 |  6 |  9 | 15 | 0.4227021276 | 0.820916618 |\n",
       "| chr11 | PACS1   | 852 | 821 | 1673 | 18 | 21 | 39 | 0.6280565550 | 0.839385555 |\n",
       "| chr11 | KDM2A   | 806 | 724 | 1530 |  9 | 10 | 19 | 0.6528554313 | 0.839385555 |\n",
       "| chr19 | CARD8   | 331 | 315 |  646 | 10 |  7 | 17 | 0.6270167006 | 0.839385555 |\n",
       "| chr19 | VAV1    | 255 | 222 |  477 |  7 |  8 | 15 | 0.6119402010 | 0.839385555 |\n",
       "| chr17 | RPTOR   | 820 | 807 | 1627 | 14 | 12 | 26 | 0.8439555493 | 0.893599993 |\n",
       "| chr17 | CYTH1   | 352 | 363 |  715 | 10 |  9 | 19 | 0.8194205687 | 0.893599993 |\n",
       "| chr22 | TNRC6B  | 444 | 435 |  879 |  9 | 10 | 19 | 0.8205235646 | 0.893599993 |\n",
       "| chr1  | ASH1L   | 378 | 385 |  763 |  8 |  9 | 17 | 1.0000000000 | 1.000000000 |\n",
       "\n"
      ],
      "text/plain": [
       "   seqnames Gene    PBMC_with PBMC_against PBMC_total CHERpre_with\n",
       "1  chr6     BACH2    60        72           132       26          \n",
       "2  chr17    STAT5B  284       278           562       24          \n",
       "3  chr16    ANKRD11 380       403           783        3          \n",
       "4  chr22    HORMAD2 192       241           433       11          \n",
       "5  chrX     MECP2   228       267           495        4          \n",
       "6  chr17    VMP1    376       374           750        6          \n",
       "7  chr17    GRB2    339       336           675       11          \n",
       "8  chr17    NPLOC4  418       408           826        5          \n",
       "9  chr17    POLR2A  161       177           338        6          \n",
       "10 chr11    MALAT1  113        96           209        6          \n",
       "11 chr11    PACS1   852       821          1673       18          \n",
       "12 chr11    KDM2A   806       724          1530        9          \n",
       "13 chr19    CARD8   331       315           646       10          \n",
       "14 chr19    VAV1    255       222           477        7          \n",
       "15 chr17    RPTOR   820       807          1627       14          \n",
       "16 chr17    CYTH1   352       363           715       10          \n",
       "17 chr22    TNRC6B  444       435           879        9          \n",
       "18 chr1     ASH1L   378       385           763        8          \n",
       "   CHERpre_against CHERpre_total p.val.raw    p.val.adj  \n",
       "1   5              31            0.0001058293 0.001904928\n",
       "2   5              29            0.0008644214 0.007779793\n",
       "3  16              19            0.0046806380 0.028083828\n",
       "4   4              15            0.0340278290 0.153125231\n",
       "5  12              16            0.1264112860 0.455080629\n",
       "6  12              18            0.2324184331 0.522941475\n",
       "7   5              16            0.2053968175 0.522941475\n",
       "8  10              15            0.2036387690 0.522941475\n",
       "9  10              16            0.4560647880 0.820916618\n",
       "10  9              15            0.4227021276 0.820916618\n",
       "11 21              39            0.6280565550 0.839385555\n",
       "12 10              19            0.6528554313 0.839385555\n",
       "13  7              17            0.6270167006 0.839385555\n",
       "14  8              15            0.6119402010 0.839385555\n",
       "15 12              26            0.8439555493 0.893599993\n",
       "16  9              19            0.8194205687 0.893599993\n",
       "17 10              19            0.8205235646 0.893599993\n",
       "18  9              17            1.0000000000 1.000000000"
      ]
     },
     "metadata": {},
     "output_type": "display_data"
    }
   ],
   "source": [
    "#Perform orientation bias analysis on pre-ART data\n",
    "CHERpre_orientation.15 <- CHERpre_genes.PBMC %>%\n",
    "    #seqnames is here to retain chromosome information in resulting tables\n",
    "    group_by(seqnames, Gene) %>%\n",
    "    #Get counts of with/against gene orientations from both libraries\n",
    "    summarise(\n",
    "        PBMC_with = sum(IS_strand == Gene_strand & sample == \"PBMC\"),\n",
    "        PBMC_against = sum(IS_strand != Gene_strand & sample == \"PBMC\"),\n",
    "        PBMC_total = PBMC_with + PBMC_against,\n",
    "        CHERpre_with = sum(IS_strand == Gene_strand & sample == \"CHERpre\"),\n",
    "        CHERpre_against = sum(IS_strand != Gene_strand & sample == \"CHERpre\"),\n",
    "        CHERpre_total = CHERpre_with + CHERpre_against\n",
    "    ) %>%\n",
    "    #Retain only those with more than 15 IS in vivo and at least one ex vivo\n",
    "    filter(CHERpre_total >= 15) %>%\n",
    "    filter(PBMC_total > 0) %>%\n",
    "    #Arrange in descending order of in vivo IS count\n",
    "    arrange(desc(CHERpre_total)) %>%\n",
    "    #remove seqnames grouping for analysis\n",
    "    ungroup() %>%\n",
    "    #functionally acts as call to apply(df, 1, FUN)\n",
    "    group_by(Gene) %>%\n",
    "    mutate(p.val.raw = fisherTest(PBMC_with, CHERpre_with, PBMC_against, CHERpre_against)) %>%\n",
    "    #need all data in column\n",
    "    ungroup() %>%\n",
    "    #Adjust p-values and sort in ascending order\n",
    "    mutate(p.val.adj = p.adjust(p.val.raw, \"BH\")) %>%\n",
    "    arrange(p.val.adj)\n",
    "\n",
    "#Show results\n",
    "CHERpre_orientation.15\n",
    "\n"
   ]
  },
  {
   "cell_type": "code",
   "execution_count": 33,
   "metadata": {},
   "outputs": [
    {
     "data": {
      "text/html": [
       "<table>\n",
       "<caption>A tibble: 2 × 9</caption>\n",
       "<thead>\n",
       "\t<tr><th scope=col>seqnames</th><th scope=col>Gene</th><th scope=col>PBMC_with</th><th scope=col>PBMC_against</th><th scope=col>PBMC_total</th><th scope=col>CHERon_with</th><th scope=col>CHERon_against</th><th scope=col>CHERon_total</th><th scope=col>p.val.raw</th></tr>\n",
       "\t<tr><th scope=col>&lt;chr&gt;</th><th scope=col>&lt;chr&gt;</th><th scope=col>&lt;int&gt;</th><th scope=col>&lt;int&gt;</th><th scope=col>&lt;int&gt;</th><th scope=col>&lt;int&gt;</th><th scope=col>&lt;int&gt;</th><th scope=col>&lt;int&gt;</th><th scope=col>&lt;dbl&gt;</th></tr>\n",
       "</thead>\n",
       "<tbody>\n",
       "\t<tr><td>chr17</td><td>STAT5B</td><td>284</td><td>278</td><td>562</td><td>31</td><td>6</td><td>37</td><td>6.180673e-05</td></tr>\n",
       "\t<tr><td>chr6 </td><td>BACH2 </td><td> 60</td><td> 72</td><td>132</td><td>12</td><td>4</td><td>16</td><td>3.360775e-02</td></tr>\n",
       "</tbody>\n",
       "</table>\n"
      ],
      "text/latex": [
       "A tibble: 2 × 9\n",
       "\\begin{tabular}{r|lllllllll}\n",
       " seqnames & Gene & PBMC\\_with & PBMC\\_against & PBMC\\_total & CHERon\\_with & CHERon\\_against & CHERon\\_total & p.val.raw\\\\\n",
       " <chr> & <chr> & <int> & <int> & <int> & <int> & <int> & <int> & <dbl>\\\\\n",
       "\\hline\n",
       "\t chr17 & STAT5B & 284 & 278 & 562 & 31 & 6 & 37 & 6.180673e-05\\\\\n",
       "\t chr6  & BACH2  &  60 &  72 & 132 & 12 & 4 & 16 & 3.360775e-02\\\\\n",
       "\\end{tabular}\n"
      ],
      "text/markdown": [
       "\n",
       "A tibble: 2 × 9\n",
       "\n",
       "| seqnames &lt;chr&gt; | Gene &lt;chr&gt; | PBMC_with &lt;int&gt; | PBMC_against &lt;int&gt; | PBMC_total &lt;int&gt; | CHERon_with &lt;int&gt; | CHERon_against &lt;int&gt; | CHERon_total &lt;int&gt; | p.val.raw &lt;dbl&gt; |\n",
       "|---|---|---|---|---|---|---|---|---|\n",
       "| chr17 | STAT5B | 284 | 278 | 562 | 31 | 6 | 37 | 6.180673e-05 |\n",
       "| chr6  | BACH2  |  60 |  72 | 132 | 12 | 4 | 16 | 3.360775e-02 |\n",
       "\n"
      ],
      "text/plain": [
       "  seqnames Gene   PBMC_with PBMC_against PBMC_total CHERon_with CHERon_against\n",
       "1 chr17    STAT5B 284       278          562        31          6             \n",
       "2 chr6     BACH2   60        72          132        12          4             \n",
       "  CHERon_total p.val.raw   \n",
       "1 37           6.180673e-05\n",
       "2 16           3.360775e-02"
      ]
     },
     "metadata": {},
     "output_type": "display_data"
    }
   ],
   "source": [
    "#Perform Orientation bias analysis on on-ART data\n",
    "CHERon_orientation.15 <- CHERon_genes.PBMC %>%\n",
    "    #Same scheme as previous cell\n",
    "    group_by(seqnames, Gene) %>%\n",
    "    summarise(\n",
    "        PBMC_with = sum(IS_strand == Gene_strand & sample == \"PBMC\"),\n",
    "        PBMC_against = sum(IS_strand != Gene_strand & sample == \"PBMC\"),\n",
    "        PBMC_total = PBMC_with + PBMC_against,\n",
    "        CHERon_with = sum(IS_strand == Gene_strand & sample == \"CHERon\"),\n",
    "        CHERon_against = sum(IS_strand != Gene_strand & sample == \"CHERon\"),\n",
    "        CHERon_total = CHERon_with + CHERon_against\n",
    "    ) %>%\n",
    "    filter(CHERon_total >= 15) %>%\n",
    "    filter(PBMC_total > 0) %>%\n",
    "    arrange(desc(CHERon_total)) %>%\n",
    "    ungroup() %>%\n",
    "    group_by(Gene) %>%\n",
    "    mutate(p.val.raw = fisherTest(PBMC_with, CHERon_with, PBMC_against, CHERon_against)) %>%\n",
    "    ungroup()\n",
    "#No need to adjust p-values as there are only two tests to run.\n",
    "\n",
    "#Show Results\n",
    "CHERon_orientation.15"
   ]
  },
  {
   "cell_type": "code",
   "execution_count": 34,
   "metadata": {},
   "outputs": [],
   "source": [
    "#Different fisher test function for enrichment\n",
    "ftest <- function(x) {\n",
    "    x <- unlist(x)\n",
    "    x <- as.numeric(x)\n",
    "    mat <- matrix(x, nrow = 2)\n",
    "    ft <- fisher.test(mat)\n",
    "    ft$p.value\n",
    "}"
   ]
  },
  {
   "cell_type": "code",
   "execution_count": 35,
   "metadata": {},
   "outputs": [],
   "source": [
    "#Perform enrichment test on pre-ART data\n",
    "CHERpre_enrich.df <- CHERpre_genes.PBMC %>%\n",
    "    #Retain chromosome information and group by Gene\n",
    "    group_by(seqnames, Gene) %>%\n",
    "    #Get counts of UIS in each Gene per sample\n",
    "    #\"Out\" columns are for facillitation of the ftest function\n",
    "    summarise(\n",
    "        PBMC_in = sum(sample==\"PBMC\"),\n",
    "        CHERpre_in = sum(sample == \"CHERpre\"),\n",
    "        PBMC_out = nrow(PBMC_genes.df) - PBMC_in,\n",
    "        CHERpre_out = nrow(CHERpre_genes.df) - CHERpre_in\n",
    "    ) %>%\n",
    "    #Arrange in Descending order of counts in vivo\n",
    "    arrange(desc(CHERpre_in)) %>%\n",
    "    ungroup() \n",
    "\n",
    "#Perform enrichment test, adjust p-values, and sort data in ascending order by adjusted p-value\n",
    "CHERpre_enrich.df$p.val.raw <- apply(CHERpre_enrich.df, 1, function(x) ftest(x[3:6]))\n",
    "CHERpre_enrich.df$p.val.adj <- p.adjust(CHERpre_enrich.df$p.val.raw, \"BH\")\n",
    "CHERpre_enrich.df <- CHERpre_enrich.df[order(CHERpre_enrich.df$p.val.adj),]\n"
   ]
  },
  {
   "cell_type": "code",
   "execution_count": 36,
   "metadata": {},
   "outputs": [],
   "source": [
    "#Perform enrichment analysis on on-ART data\n",
    "CHERon_enrich.df <- CHERon_genes.PBMC %>%\n",
    "    #Same scheme as above\n",
    "    group_by(seqnames, Gene) %>%\n",
    "    summarise(\n",
    "        PBMC_in = sum(sample==\"PBMC\"),\n",
    "        CHERon_in = sum(sample == \"CHERon\"),\n",
    "        PBMC_out = nrow(PBMC_genes.df) - PBMC_in,\n",
    "        CHERon_out = nrow(CHERon_genes.df) - CHERon_in\n",
    "    ) %>%\n",
    "    arrange(desc(CHERon_in)) %>%\n",
    "    ungroup() \n",
    "\n",
    "CHERon_enrich.df$p.val.raw <- apply(CHERon_enrich.df, 1, function(x) ftest(x[3:6]))\n",
    "CHERon_enrich.df$p.val.adj <- p.adjust(CHERon_enrich.df$p.val.raw, \"BH\")\n",
    "CHERon_enrich.df <- CHERon_enrich.df[order(CHERon_enrich.df$p.val.adj),]\n"
   ]
  },
  {
   "cell_type": "code",
   "execution_count": 37,
   "metadata": {},
   "outputs": [
    {
     "data": {
      "text/html": [
       "<table>\n",
       "<caption>A tibble: 1 × 8</caption>\n",
       "<thead>\n",
       "\t<tr><th scope=col>seqnames</th><th scope=col>Gene</th><th scope=col>PBMC_in</th><th scope=col>CHERpre_in</th><th scope=col>PBMC_out</th><th scope=col>CHERpre_out</th><th scope=col>p.val.raw</th><th scope=col>p.val.adj</th></tr>\n",
       "\t<tr><th scope=col>&lt;chr&gt;</th><th scope=col>&lt;chr&gt;</th><th scope=col>&lt;int&gt;</th><th scope=col>&lt;int&gt;</th><th scope=col>&lt;int&gt;</th><th scope=col>&lt;int&gt;</th><th scope=col>&lt;dbl&gt;</th><th scope=col>&lt;dbl&gt;</th></tr>\n",
       "</thead>\n",
       "<tbody>\n",
       "\t<tr><td>chr6</td><td>BACH2</td><td>132</td><td>31</td><td>335482</td><td>7008</td><td>7.189016e-21</td><td>8.896407e-17</td></tr>\n",
       "</tbody>\n",
       "</table>\n"
      ],
      "text/latex": [
       "A tibble: 1 × 8\n",
       "\\begin{tabular}{r|llllllll}\n",
       " seqnames & Gene & PBMC\\_in & CHERpre\\_in & PBMC\\_out & CHERpre\\_out & p.val.raw & p.val.adj\\\\\n",
       " <chr> & <chr> & <int> & <int> & <int> & <int> & <dbl> & <dbl>\\\\\n",
       "\\hline\n",
       "\t chr6 & BACH2 & 132 & 31 & 335482 & 7008 & 7.189016e-21 & 8.896407e-17\\\\\n",
       "\\end{tabular}\n"
      ],
      "text/markdown": [
       "\n",
       "A tibble: 1 × 8\n",
       "\n",
       "| seqnames &lt;chr&gt; | Gene &lt;chr&gt; | PBMC_in &lt;int&gt; | CHERpre_in &lt;int&gt; | PBMC_out &lt;int&gt; | CHERpre_out &lt;int&gt; | p.val.raw &lt;dbl&gt; | p.val.adj &lt;dbl&gt; |\n",
       "|---|---|---|---|---|---|---|---|\n",
       "| chr6 | BACH2 | 132 | 31 | 335482 | 7008 | 7.189016e-21 | 8.896407e-17 |\n",
       "\n"
      ],
      "text/plain": [
       "  seqnames Gene  PBMC_in CHERpre_in PBMC_out CHERpre_out p.val.raw   \n",
       "1 chr6     BACH2 132     31         335482   7008        7.189016e-21\n",
       "  p.val.adj   \n",
       "1 8.896407e-17"
      ]
     },
     "metadata": {},
     "output_type": "display_data"
    },
    {
     "data": {
      "text/html": [
       "<table>\n",
       "<caption>A tibble: 1 × 8</caption>\n",
       "<thead>\n",
       "\t<tr><th scope=col>seqnames</th><th scope=col>Gene</th><th scope=col>PBMC_in</th><th scope=col>CHERpre_in</th><th scope=col>PBMC_out</th><th scope=col>CHERpre_out</th><th scope=col>p.val.raw</th><th scope=col>p.val.adj</th></tr>\n",
       "\t<tr><th scope=col>&lt;chr&gt;</th><th scope=col>&lt;chr&gt;</th><th scope=col>&lt;int&gt;</th><th scope=col>&lt;int&gt;</th><th scope=col>&lt;int&gt;</th><th scope=col>&lt;int&gt;</th><th scope=col>&lt;dbl&gt;</th><th scope=col>&lt;dbl&gt;</th></tr>\n",
       "</thead>\n",
       "<tbody>\n",
       "\t<tr><td>chr17</td><td>STAT5B</td><td>562</td><td>29</td><td>335052</td><td>7010</td><td>2.601149e-05</td><td>0.1395812</td></tr>\n",
       "</tbody>\n",
       "</table>\n"
      ],
      "text/latex": [
       "A tibble: 1 × 8\n",
       "\\begin{tabular}{r|llllllll}\n",
       " seqnames & Gene & PBMC\\_in & CHERpre\\_in & PBMC\\_out & CHERpre\\_out & p.val.raw & p.val.adj\\\\\n",
       " <chr> & <chr> & <int> & <int> & <int> & <int> & <dbl> & <dbl>\\\\\n",
       "\\hline\n",
       "\t chr17 & STAT5B & 562 & 29 & 335052 & 7010 & 2.601149e-05 & 0.1395812\\\\\n",
       "\\end{tabular}\n"
      ],
      "text/markdown": [
       "\n",
       "A tibble: 1 × 8\n",
       "\n",
       "| seqnames &lt;chr&gt; | Gene &lt;chr&gt; | PBMC_in &lt;int&gt; | CHERpre_in &lt;int&gt; | PBMC_out &lt;int&gt; | CHERpre_out &lt;int&gt; | p.val.raw &lt;dbl&gt; | p.val.adj &lt;dbl&gt; |\n",
       "|---|---|---|---|---|---|---|---|\n",
       "| chr17 | STAT5B | 562 | 29 | 335052 | 7010 | 2.601149e-05 | 0.1395812 |\n",
       "\n"
      ],
      "text/plain": [
       "  seqnames Gene   PBMC_in CHERpre_in PBMC_out CHERpre_out p.val.raw   \n",
       "1 chr17    STAT5B 562     29         335052   7010        2.601149e-05\n",
       "  p.val.adj\n",
       "1 0.1395812"
      ]
     },
     "metadata": {},
     "output_type": "display_data"
    }
   ],
   "source": [
    "#Large table; only show relevant results\n",
    "CHERpre_enrich.df[\n",
    "    which(\n",
    "        CHERpre_enrich.df$p.val.adj <0.05 &\n",
    "        CHERpre_enrich.df$PBMC_in > 0 &\n",
    "        CHERpre_enrich.df$CHERpre_in > 0\n",
    "    ), ]\n",
    "\n",
    "#It is known that STAT5B is selected for in on-ART data, so show value here as well\n",
    "CHERpre_enrich.df[which(CHERpre_enrich.df$Gene == \"STAT5B\"),]"
   ]
  },
  {
   "cell_type": "code",
   "execution_count": 38,
   "metadata": {},
   "outputs": [
    {
     "data": {
      "text/html": [
       "<table>\n",
       "<caption>A tibble: 2 × 8</caption>\n",
       "<thead>\n",
       "\t<tr><th scope=col>seqnames</th><th scope=col>Gene</th><th scope=col>PBMC_in</th><th scope=col>CHERon_in</th><th scope=col>PBMC_out</th><th scope=col>CHERon_out</th><th scope=col>p.val.raw</th><th scope=col>p.val.adj</th></tr>\n",
       "\t<tr><th scope=col>&lt;chr&gt;</th><th scope=col>&lt;chr&gt;</th><th scope=col>&lt;int&gt;</th><th scope=col>&lt;int&gt;</th><th scope=col>&lt;int&gt;</th><th scope=col>&lt;int&gt;</th><th scope=col>&lt;dbl&gt;</th><th scope=col>&lt;dbl&gt;</th></tr>\n",
       "</thead>\n",
       "<tbody>\n",
       "\t<tr><td>chr17</td><td>STAT5B</td><td>562</td><td>37</td><td>335052</td><td>1165</td><td>3.237177e-33</td><td>3.990468e-29</td></tr>\n",
       "\t<tr><td>chr6 </td><td>BACH2 </td><td>132</td><td>16</td><td>335482</td><td>1186</td><td>4.416282e-19</td><td>2.721976e-15</td></tr>\n",
       "</tbody>\n",
       "</table>\n"
      ],
      "text/latex": [
       "A tibble: 2 × 8\n",
       "\\begin{tabular}{r|llllllll}\n",
       " seqnames & Gene & PBMC\\_in & CHERon\\_in & PBMC\\_out & CHERon\\_out & p.val.raw & p.val.adj\\\\\n",
       " <chr> & <chr> & <int> & <int> & <int> & <int> & <dbl> & <dbl>\\\\\n",
       "\\hline\n",
       "\t chr17 & STAT5B & 562 & 37 & 335052 & 1165 & 3.237177e-33 & 3.990468e-29\\\\\n",
       "\t chr6  & BACH2  & 132 & 16 & 335482 & 1186 & 4.416282e-19 & 2.721976e-15\\\\\n",
       "\\end{tabular}\n"
      ],
      "text/markdown": [
       "\n",
       "A tibble: 2 × 8\n",
       "\n",
       "| seqnames &lt;chr&gt; | Gene &lt;chr&gt; | PBMC_in &lt;int&gt; | CHERon_in &lt;int&gt; | PBMC_out &lt;int&gt; | CHERon_out &lt;int&gt; | p.val.raw &lt;dbl&gt; | p.val.adj &lt;dbl&gt; |\n",
       "|---|---|---|---|---|---|---|---|\n",
       "| chr17 | STAT5B | 562 | 37 | 335052 | 1165 | 3.237177e-33 | 3.990468e-29 |\n",
       "| chr6  | BACH2  | 132 | 16 | 335482 | 1186 | 4.416282e-19 | 2.721976e-15 |\n",
       "\n"
      ],
      "text/plain": [
       "  seqnames Gene   PBMC_in CHERon_in PBMC_out CHERon_out p.val.raw   \n",
       "1 chr17    STAT5B 562     37        335052   1165       3.237177e-33\n",
       "2 chr6     BACH2  132     16        335482   1186       4.416282e-19\n",
       "  p.val.adj   \n",
       "1 3.990468e-29\n",
       "2 2.721976e-15"
      ]
     },
     "metadata": {},
     "output_type": "display_data"
    }
   ],
   "source": [
    "#Large Table; only show relevant results\n",
    "CHERon_enrich.df[\n",
    "    which(\n",
    "        CHERon_enrich.df$p.val.adj <0.05 &\n",
    "        CHERon_enrich.df$PBMC_in > 0 &\n",
    "        CHERon_enrich.df$CHERon_in > 0\n",
    "    ), ]"
   ]
  },
  {
   "cell_type": "code",
   "execution_count": 39,
   "metadata": {},
   "outputs": [],
   "source": [
    "#Create df for orientation analysis\n",
    "ISA_orientation.global <- data.frame(\n",
    "    sample = c(\"PBMC\", \"pre-ART\", \"on-ART\"),\n",
    "    with_gene = c(sum(PBMC_genes.df$IS_strand == PBMC_genes.df$Gene_strand),\n",
    "                  sum(CHERpre_genes.df$IS_strand == CHERpre_genes.df$Gene_strand),\n",
    "                  sum(CHERon_genes.df$IS_strand == CHERon_genes.df$Gene_strand)),\n",
    "    against_gene = c(sum(PBMC_genes.df$IS_strand != PBMC_genes.df$Gene_strand),\n",
    "                     sum(CHERpre_genes.df$IS_strand != CHERpre_genes.df$Gene_strand),\n",
    "                     sum(CHERon_genes.df$IS_strand != CHERon_genes.df$Gene_strand))\n",
    "    )"
   ]
  },
  {
   "cell_type": "code",
   "execution_count": 40,
   "metadata": {},
   "outputs": [],
   "source": [
    "#Adjust df for plotting\n",
    "ISA_orientation.glb.plot <- ISA_orientation.global %>%\n",
    "    #Melt to reshape\n",
    "    melt(id.vars = \"sample\") %>%\n",
    "    \n",
    "    #Factor on Sample column\n",
    "    group_by(sample) %>%\n",
    "    \n",
    "    #Add percent column for bar graph\n",
    "    dplyr::mutate(percent = value/sum(value)*100) %>%\n",
    "    \n",
    "    #adjust column names\n",
    "    dplyr::rename(Orientation = variable, Count = value) %>%\n",
    "    \n",
    "    #Refactor Columns\n",
    "    ungroup() %>%\n",
    "    dplyr::mutate(\n",
    "        sample=factor(sample, levels=c(\"PBMC\", \"pre-ART\", \"on-ART\")),\n",
    "        Orientation=factor(Orientation, levels=c(\"against_gene\", \"with_gene\"))\n",
    "    )"
   ]
  },
  {
   "cell_type": "code",
   "execution_count": 41,
   "metadata": {},
   "outputs": [],
   "source": [
    "#Perform statistical test for orientation analysis\n",
    "\n",
    "#Data frame structure to pass into stat_pvalue_manual from library(ggpubr)\n",
    "ISA_orientation.global.tests <- data.frame(\n",
    "    .y. = c(\"percent\", \"percent\"),\n",
    "    group1 = rep(\"PBMC\", 2),\n",
    "    group2 = c(\"pre-ART\", \"on-ART\"),\n",
    "    p = c(\n",
    "            signif(\n",
    "                fisher.test(matrix(c(\n",
    "                        unlist(ISA_orientation.global[1,2:3]),\n",
    "                        unlist(ISA_orientation.global[2,2:3])\n",
    "                    ),\n",
    "                    nrow=2,\n",
    "                    byrow = T)\n",
    "                )$p.value,\n",
    "                2\n",
    "            ),\n",
    "            signif(\n",
    "                fisher.test(matrix(c(\n",
    "                    unlist(ISA_orientation.global[1,2:3]),\n",
    "                    unlist(ISA_orientation.global[3,2:3])\n",
    "                ),\n",
    "                nrow=2,\n",
    "                byrow = T)\n",
    "                )$p.value,\n",
    "                2\n",
    "            )\n",
    "    )\n",
    ")"
   ]
  },
  {
   "cell_type": "code",
   "execution_count": 42,
   "metadata": {},
   "outputs": [
    {
     "data": {
      "image/png": "[encoded data removed]",
      "text/plain": [
       "plot without title"
      ]
     },
     "metadata": {},
     "output_type": "display_data"
    }
   ],
   "source": [
    "#VIsualize orientation bias analysis\n",
    "\n",
    "f3b <- ggplot(ISA_orientation.glb.plot, aes(x=sample))+\n",
    "    \n",
    "    #Bar graph\n",
    "    geom_bar(\n",
    "        aes(\n",
    "            weight=percent,\n",
    "            fill=Orientation\n",
    "        )\n",
    "    )+\n",
    "\n",
    "    #Labeling\n",
    "    scale_x_discrete(\n",
    "        labels=c(\n",
    "            \"on-ART\"=\"CHER on-ART\",\n",
    "            \"PBMC\" = \"Ex-Vivo Library\",\n",
    "            \"pre-ART\" = \"CHER pre-ART\"\n",
    "        )\n",
    "    )+\n",
    "    labs(\n",
    "        title=\"Global Orientation as Bar Graph\",\n",
    "        x=\"Integration Site Library\",\n",
    "        y=\"Percent of Integrations\",\n",
    "        fill=\"Orientation with\\nRespect to Gene\"\n",
    "    )+\n",
    "    scale_y_continuous(\n",
    "        limits=range(0,110),\n",
    "        labels=seq(0,100,25),\n",
    "        breaks=seq(0,100,25)\n",
    "    )+\n",
    "    scale_fill_manual(\n",
    "        values=c(\"#d95f02\", \"#1b9e77\"),\n",
    "        labels=c(\"Against Gene\", \"With Gene\")\n",
    "    )+\n",
    "\n",
    "    #Create theme\n",
    "    theme_bw()+\n",
    "    theme(\n",
    "        panel.border = element_blank(),\n",
    "        panel.grid.major = element_blank(),\n",
    "        panel.grid.minor = element_blank(),\n",
    "        axis.line = element_line(color=\"black\")\n",
    "    )+\n",
    "\n",
    "    #Add p-values\n",
    "    stat_pvalue_manual(ISA_orientation.global.tests, y.pos = c(103, 109))\n",
    "\n",
    "f3b"
   ]
  },
  {
   "cell_type": "code",
   "execution_count": 43,
   "metadata": {},
   "outputs": [],
   "source": [
    "#Combine all genic ISA data to single df\n",
    "ISA_data.all <- dplyr::bind_rows(CHERpre_genes.df, CHERon_genes.df, PBMC_genes.df)\n",
    "\n",
    "#Create df for orientation analysis for STAT5B and BACH2\n",
    "ISA_orientation.st5b.b2 <- ISA_data.all %>%\n",
    "\n",
    "    #Retain Gene and chromosome and factor on sample\n",
    "    group_by(\n",
    "        seqnames,\n",
    "        Gene,\n",
    "        sample\n",
    "    ) %>%\n",
    "\n",
    "    #Get counts of with/against gene orientation\n",
    "    summarise(\n",
    "        with_gene = sum(IS_strand == Gene_strand),\n",
    "        against_gene = sum(IS_strand != Gene_strand),\n",
    "    ) %>%\n",
    "\n",
    "    #Retain only STAT5B and BACH2\n",
    "    filter(\n",
    "        Gene %in% c(\"STAT5B\", \"BACH2\")\n",
    "    ) %>%\n",
    "\n",
    "    #Reshape\n",
    "    melt(\n",
    "        id.vars = c(\n",
    "            \"sample\",\n",
    "            \"seqnames\",\n",
    "            \"Gene\"\n",
    "            )\n",
    "        ) %>%\n",
    "    \n",
    "    #Regroup for bar-graphs\n",
    "    ungroup() %>%\n",
    "    group_by(\n",
    "        sample,\n",
    "        Gene\n",
    "    ) %>%\n",
    "\n",
    "    #Add percent column\n",
    "    mutate(\n",
    "        percent = value/sum(value) * 100\n",
    "    ) %>%\n",
    "\n",
    "    #Rename Columns\n",
    "    dplyr::rename(\n",
    "        Orientation = variable,\n",
    "        Count = value\n",
    "    ) %>%\n",
    "\n",
    "    #Refactor columns\n",
    "    ungroup() %>%\n",
    "    mutate(\n",
    "        sample = factor(sample, levels=c(\"PBMC\", \"CHERpre\", \"CHERon\")),\n",
    "        Gene = factor(Gene, levels=c(\"BACH2\", \"STAT5B\")),\n",
    "        Orientation = factor(Orientation, levels=c(\"against_gene\", \"with_gene\"))\n",
    "    )"
   ]
  },
  {
   "cell_type": "code",
   "execution_count": 44,
   "metadata": {},
   "outputs": [],
   "source": [
    "#Statistical tests for passing into stat_pvalue_manual\n",
    "#Gene column for facet_wrap\n",
    "st5b.bach2.tests <- data.frame(\n",
    "    Gene=c(\"BACH2\", \"BACH2\", \"STAT5B\", \"STAT5B\"),\n",
    "    group1 = rep(\"PBMC\", 4),\n",
    "    group2 = c(\"CHERpre\", \"CHERon\", \"CHERpre\", \"CHERon\"),\n",
    "    p=c(\n",
    "        signif(\n",
    "            fisher.test(matrix(c(\n",
    "                unlist(ISA_orientation.st5b.b2[6,5]),\n",
    "                unlist(ISA_orientation.st5b.b2[12,5]),\n",
    "                unlist(ISA_orientation.st5b.b2[5,5]),\n",
    "                unlist(ISA_orientation.st5b.b2[11,5])\n",
    "                ),\n",
    "                nrow=2,\n",
    "                byrow=T\n",
    "            )\n",
    "        )$p.value, 2\n",
    "    ),\n",
    "    signif(\n",
    "        fisher.test(matrix(c(\n",
    "            unlist(ISA_orientation.st5b.b2[6,5]),\n",
    "            unlist(ISA_orientation.st5b.b2[12,5]),\n",
    "            unlist(ISA_orientation.st5b.b2[4,5]),\n",
    "            unlist(ISA_orientation.st5b.b2[10,5])\n",
    "            ), nrow=2, byrow=T\n",
    "        ))$p.value, 2\n",
    "    ),\n",
    "    signif(\n",
    "        fisher.test(matrix(c(\n",
    "            unlist(ISA_orientation.st5b.b2[3,5]),\n",
    "            unlist(ISA_orientation.st5b.b2[9,5]),\n",
    "            unlist(ISA_orientation.st5b.b2[2,5]),\n",
    "            unlist(ISA_orientation.st5b.b2[8,5])\n",
    "        ),\n",
    "        nrow=2,\n",
    "        byrow=T\n",
    "        )\n",
    "        )$p.value, 2\n",
    "    ),\n",
    "    signif(\n",
    "        fisher.test(matrix(c(\n",
    "            unlist(ISA_orientation.st5b.b2[3,5]),\n",
    "            unlist(ISA_orientation.st5b.b2[9,5]),\n",
    "            unlist(ISA_orientation.st5b.b2[1,5]),\n",
    "            unlist(ISA_orientation.st5b.b2[7,5])\n",
    "        ),\n",
    "        nrow=2,\n",
    "        byrow=T\n",
    "        )\n",
    "        )$p.value, 2\n",
    "    )\n",
    "      \n",
    "    ),\n",
    "    y.position=c(103,109,103,109)\n",
    ")"
   ]
  },
  {
   "cell_type": "code",
   "execution_count": 45,
   "metadata": {},
   "outputs": [
    {
     "data": {
      "image/png": "[encoded data removed]",
      "text/plain": [
       "plot without title"
      ]
     },
     "metadata": {},
     "output_type": "display_data"
    }
   ],
   "source": [
    "#Plot gene-specific orientation\n",
    "f3a <- ggplot(ISA_orientation.st5b.b2, aes(x=sample))+\n",
    "    #Add Bar graph\n",
    "    geom_bar(\n",
    "        aes(\n",
    "            weight=percent,\n",
    "            fill=Orientation\n",
    "        )\n",
    "    )+\n",
    "\n",
    "    #Create two graphs by Gene\n",
    "    facet_wrap(~Gene)+\n",
    "\n",
    "    #Labeling\n",
    "    scale_x_discrete(\n",
    "        labels=c(\n",
    "            \"CHERon\" = \"on-ART\",\n",
    "            \"CHERpre\" = \"pre-ART\",\n",
    "            \"PBMC\" = \"PBMC\"\n",
    "        )\n",
    "    )+\n",
    "    labs(\n",
    "        title=\"Orientation of Putative Selected Genes\",\n",
    "        x=\"Integration Site Library\",\n",
    "        y=\"Percent of Integrations\",\n",
    "        fill=\"Orientation with\\nRespect to Gene\"\n",
    "    )+\n",
    "    scale_y_continuous(\n",
    "        limits=c(0,110),\n",
    "        labels=seq(0,100,25),\n",
    "        breaks=seq(0,100,25)\n",
    "    )+\n",
    "    scale_fill_manual(\n",
    "        values=c(\"#d95f02\", \"#1b9e77\"),\n",
    "        labels=c(\"Against Gene\", \"With Gene\")\n",
    "    )+\n",
    "\n",
    "    #Theme adjusting\n",
    "    theme_bw()+\n",
    "    theme(\n",
    "        panel.border = element_blank(),\n",
    "        panel.grid.major = element_blank(),\n",
    "        panel.grid.minor = element_blank(),\n",
    "        axis.line = element_line(color=\"black\")\n",
    "    )+\n",
    "\n",
    "    #Add p-values\n",
    "    stat_pvalue_manual(\n",
    "        st5b.bach2.tests\n",
    "    )\n",
    "\n",
    "f3a"
   ]
  },
  {
   "cell_type": "code",
   "execution_count": 46,
   "metadata": {},
   "outputs": [
    {
     "name": "stderr",
     "output_type": "stream",
     "text": [
      "snapshotDate(): 2019-05-02\n"
     ]
    },
    {
     "data": {
      "text/plain": [
       "AnnotationHub with 2 records\n",
       "# snapshotDate(): 2019-05-02 \n",
       "# $dataprovider: UCSC\n",
       "# $species: Homo sapiens\n",
       "# $rdataclass: GRanges\n",
       "# additional mcols(): taxonomyid, genome, description,\n",
       "#   coordinate_1_based, maintainer, rdatadateadded, preparerclass, tags,\n",
       "#   rdatapath, sourceurl, sourcetype \n",
       "# retrieve records with, e.g., 'object[[\"AH5086\"]]' \n",
       "\n",
       "           title      \n",
       "  AH5086 | CpG Islands\n",
       "  AH5096 | Evo Cpg    "
      ]
     },
     "metadata": {},
     "output_type": "display_data"
    },
    {
     "name": "stderr",
     "output_type": "stream",
     "text": [
      "downloading 0 resources\n",
      "loading from cache \n",
      "    'AH5086 : 5086'\n"
     ]
    }
   ],
   "source": [
    "#Get CpG island coordinates\n",
    "hub <- AnnotationHub()\n",
    "query(hub, c(\"cpg\",\"hg19\"))\n",
    "cpgs <- hub[[\"AH5086\"]]"
   ]
  },
  {
   "cell_type": "code",
   "execution_count": 47,
   "metadata": {},
   "outputs": [],
   "source": [
    "#Adjust GRanges object to remove unknown chromosomal locations\n",
    "cpgs.df <- data.frame(\n",
    "    seqnames = seqnames(cpgs),\n",
    "    txStart = start(cpgs) - 1,\n",
    "    txEnd = end(cpgs),\n",
    "    strand = strand(cpgs),\n",
    "    id = as.character(cpgs$name)\n",
    ")\n",
    "\n",
    "cpgs.df.edit <- cpgs.df %>%\n",
    "    filter(seqnames %in% c(paste0(\"chr\", 1:22), \"chrX\", \"chrY\"))\n",
    "\n",
    "#Create GRanges object\n",
    "cpgs.granges <- GRanges(\n",
    "    seqnames = as.factor(as.character(cpgs.df.edit$seqnames)),\n",
    "    ranges = IRanges(\n",
    "        start = cpgs.df.edit$txStart,\n",
    "        end = cpgs.df.edit$txEnd,\n",
    "        names = cpgs.df.edit$id\n",
    "        )\n",
    ")"
   ]
  },
  {
   "cell_type": "code",
   "execution_count": 48,
   "metadata": {},
   "outputs": [],
   "source": [
    "#Annotate IS data -- distance to middle of CpG Island\n",
    "PBMC_cpgs.annotated <- annotatePeakInBatch(\n",
    "    PBMC_ISA.GRanges,\n",
    "    AnnotationData = cpgs.granges,\n",
    "    output=\"shortestDistance\",\n",
    "    select=\"first\",\n",
    "    FeatureLocForDistance=\"middle\"\n",
    ")\n",
    "\n",
    "CHERpre_cpgs.anno <- annotatePeakInBatch(\n",
    "    CHERpre.GRanges,\n",
    "    AnnotationData = cpgs.granges,\n",
    "    output = \"shortestDistance\",\n",
    "    select = \"first\",\n",
    "    FeatureLocForDistance=\"middle\"\n",
    ")\n",
    "\n",
    "CHERon_cpgs.anno <- annotatePeakInBatch(\n",
    "    CHERon.GRanges,\n",
    "    AnnotationData = cpgs.granges,\n",
    "    output = \"shortestDistance\",\n",
    "    select = \"first\",\n",
    "    FeatureLocForDistance=\"middle\"\n",
    ")"
   ]
  },
  {
   "cell_type": "code",
   "execution_count": 49,
   "metadata": {},
   "outputs": [],
   "source": [
    "#Get absolute distances\n",
    "PBMC_cpg.df <- data.frame(\n",
    "    sample = \"PBMC\",\n",
    "    distance = abs(PBMC_cpgs.annotated$distancetoFeature),\n",
    "    stringsAsFactors = FALSE\n",
    ") %>%\n",
    "    mutate(\n",
    "        log_dist = log10(distance)\n",
    "    )\n",
    "\n",
    "CHERpre_cpg.df <- data.frame(\n",
    "    sample = \"CHERpre\",\n",
    "    distance = abs(CHERpre_cpgs.anno$distancetoFeature),\n",
    "    stringsAsFactors = FALSE\n",
    ") %>%\n",
    "    mutate(\n",
    "        log_dist = log10(distance)\n",
    "    )\n",
    "\n",
    "CHERon_cpg.df <- data.frame(\n",
    "    sample = \"CHERon\",\n",
    "    distance = abs(CHERon_cpgs.anno$distancetoFeature),\n",
    "    stringsAsFactors = FALSE\n",
    ") %>%\n",
    "    mutate(\n",
    "        log_dist = log10(distance)\n",
    "    )\n",
    "\n",
    "CPG_dists <- dplyr::bind_rows(PBMC_cpg.df, CHERpre_cpg.df, CHERon_cpg.df) %>%\n",
    "    mutate(sample = factor(sample, levels=c(\"PBMC\", \"CHERpre\", \"CHERon\"))) %>%\n",
    "    filter(log_dist > -Inf)"
   ]
  },
  {
   "cell_type": "code",
   "execution_count": 50,
   "metadata": {},
   "outputs": [
    {
     "data": {
      "image/png": "[encoded data removed]",
      "text/plain": [
       "plot without title"
      ]
     },
     "metadata": {},
     "output_type": "display_data"
    }
   ],
   "source": [
    "#Helper function for scale bars in violin plots\n",
    "data_summary <- function(x) {\n",
    "    m <- mean(x)\n",
    "    ymin <- m-sd(x)\n",
    "    ymax <- m+sd(x)\n",
    "    return(c(y=m,ymin=ymin,ymax=ymax))\n",
    "}\n",
    "\n",
    "#Comparisons helper variable\n",
    "comparisons <- list(c(\"PBMC\", \"CHERpre\"), c(\"PBMC\", \"CHERon\"), c(\"CHERpre\", \"CHERon\"))\n",
    "\n",
    "#Plot CpG island analysis\n",
    "sf1a <- ggplot(CPG_dists, aes(x = sample, y = log_dist, fill = sample))+\n",
    "    #Add violin plot\n",
    "    geom_violin() +\n",
    "    \n",
    "    #Add statistical tests: Kruskal Wallis\n",
    "    stat_compare_means(label.y=9)+\n",
    "    #Add statistical tests: Mann-Whitney\n",
    "    stat_compare_means(comparisons = comparisons)+\n",
    "    #Add mean +/- sd bars\n",
    "    stat_summary(fun.data=data_summary)+\n",
    "    \n",
    "    #Labelling\n",
    "    labs(\n",
    "        title=\"Log-Transformed distance to CpG Islands\",\n",
    "        subtitle=\"Distance measured as absolute distance to mid-point of the closest CpG Island\",\n",
    "        y=\"Log10 Distance\",\n",
    "        x=\"Integration Site Library\"\n",
    "    )+\n",
    "    scale_x_discrete(labels=c(\"PBMC\", \"pre-ART\", \"on-ART\"))+\n",
    "    scale_fill_discrete(guide=FALSE)+\n",
    "    \n",
    "    #Adjust Theme\n",
    "    theme_bw()+\n",
    "    theme(\n",
    "        panel.border = element_blank(),\n",
    "        panel.grid.major = element_blank(),\n",
    "        panel.grid.minor = element_blank(),\n",
    "        axis.line = element_line(color=\"black\")\n",
    "    )\n",
    "\n",
    "sf1a"
   ]
  },
  {
   "cell_type": "code",
   "execution_count": 51,
   "metadata": {},
   "outputs": [
    {
     "data": {
      "text/html": [
       "<table>\n",
       "<caption>A tibble: 3 × 5</caption>\n",
       "<thead>\n",
       "\t<tr><th scope=col>sample</th><th scope=col>meanLDist</th><th scope=col>medianLDist</th><th scope=col>meanDist</th><th scope=col>medianDist</th></tr>\n",
       "\t<tr><th scope=col>&lt;fct&gt;</th><th scope=col>&lt;dbl&gt;</th><th scope=col>&lt;dbl&gt;</th><th scope=col>&lt;dbl&gt;</th><th scope=col>&lt;dbl&gt;</th></tr>\n",
       "</thead>\n",
       "<tbody>\n",
       "\t<tr><td>PBMC   </td><td>4.260883</td><td>4.294488</td><td>43326.72</td><td>19701.0</td></tr>\n",
       "\t<tr><td>CHERpre</td><td>4.309268</td><td>4.329622</td><td>51304.49</td><td>21361.0</td></tr>\n",
       "\t<tr><td>CHERon </td><td>4.379041</td><td>4.401047</td><td>66128.00</td><td>25179.5</td></tr>\n",
       "</tbody>\n",
       "</table>\n"
      ],
      "text/latex": [
       "A tibble: 3 × 5\n",
       "\\begin{tabular}{r|lllll}\n",
       " sample & meanLDist & medianLDist & meanDist & medianDist\\\\\n",
       " <fct> & <dbl> & <dbl> & <dbl> & <dbl>\\\\\n",
       "\\hline\n",
       "\t PBMC    & 4.260883 & 4.294488 & 43326.72 & 19701.0\\\\\n",
       "\t CHERpre & 4.309268 & 4.329622 & 51304.49 & 21361.0\\\\\n",
       "\t CHERon  & 4.379041 & 4.401047 & 66128.00 & 25179.5\\\\\n",
       "\\end{tabular}\n"
      ],
      "text/markdown": [
       "\n",
       "A tibble: 3 × 5\n",
       "\n",
       "| sample &lt;fct&gt; | meanLDist &lt;dbl&gt; | medianLDist &lt;dbl&gt; | meanDist &lt;dbl&gt; | medianDist &lt;dbl&gt; |\n",
       "|---|---|---|---|---|\n",
       "| PBMC    | 4.260883 | 4.294488 | 43326.72 | 19701.0 |\n",
       "| CHERpre | 4.309268 | 4.329622 | 51304.49 | 21361.0 |\n",
       "| CHERon  | 4.379041 | 4.401047 | 66128.00 | 25179.5 |\n",
       "\n"
      ],
      "text/plain": [
       "  sample  meanLDist medianLDist meanDist medianDist\n",
       "1 PBMC    4.260883  4.294488    43326.72 19701.0   \n",
       "2 CHERpre 4.309268  4.329622    51304.49 21361.0   \n",
       "3 CHERon  4.379041  4.401047    66128.00 25179.5   "
      ]
     },
     "metadata": {},
     "output_type": "display_data"
    }
   ],
   "source": [
    "#Summarise results\n",
    "CPG_dists.summary <- CPG_dists %>% \n",
    "    group_by(sample) %>%\n",
    "    summarise(\n",
    "        meanLDist = mean(log_dist),\n",
    "        medianLDist = median(log_dist),\n",
    "        meanDist = mean(distance),\n",
    "        medianDist = median(distance)\n",
    "    )\n",
    "\n",
    "CPG_dists.summary"
   ]
  },
  {
   "cell_type": "code",
   "execution_count": 52,
   "metadata": {},
   "outputs": [],
   "source": [
    "#Pull distance data from aggregated mapped genic data\n",
    "\n",
    "#Various distance transforms -- analysis only on normalized distance\n",
    "ISA_data.tss <- data.frame(\n",
    "    sample = ISA_data.all$sample,\n",
    "    raw_dist = as.numeric(ISA_data.all$dist_to_feature),\n",
    "    raw_dist.log = log10(as.numeric(ISA_data.all$dist_to_feature)),\n",
    "    norm_dist = as.numeric(ISA_data.all$dist_to_feature) / as.numeric(ISA_data.all$Gene_length)\n",
    ")\n",
    "\n",
    "#Refactor and remove 0s\n",
    "ISA_data.tss <- ISA_data.tss %>%\n",
    "    mutate(\n",
    "        sample = factor(sample, levels=c(\"PBMC\", \"CHERpre\", \"CHERon\"))\n",
    "    ) %>%\n",
    "    filter(raw_dist.log > -Inf)"
   ]
  },
  {
   "cell_type": "code",
   "execution_count": 53,
   "metadata": {},
   "outputs": [
    {
     "data": {
      "image/png": "[encoded data removed]",
      "text/plain": [
       "plot without title"
      ]
     },
     "metadata": {},
     "output_type": "display_data"
    }
   ],
   "source": [
    "#Plot TSS-distance\n",
    "sf1b <- ggplot(ISA_data.tss, aes(x = sample, y = norm_dist, fill = sample))+\n",
    "    #Add Violin Plot\n",
    "    geom_violin()+\n",
    "\n",
    "    #Statistical Tests\n",
    "    stat_compare_means(label.y=1.3)+\n",
    "    stat_compare_means(comparisons = comparisons)+\n",
    "    stat_summary(fun.data=data_summary)+\n",
    "    \n",
    "    #Labeling\n",
    "    labs(\n",
    "        title=\"Gene-Length Normalized distance to TSS\",\n",
    "        y=\"Percent of Gene Length\", \n",
    "        x=\"Integration Site Library\"\n",
    "    )+\n",
    "    scale_x_discrete(labels=c(\"PBMC\", \"pre-ART\", \"on-ART\"))+\n",
    "    scale_fill_discrete(guide=F)+\n",
    "    \n",
    "    #Adjust Theme\n",
    "    theme_bw()+\n",
    "    theme(\n",
    "        panel.border = element_blank(),\n",
    "        panel.grid.major = element_blank(),\n",
    "        panel.grid.minor = element_blank(),\n",
    "        axis.line = element_line(color=\"black\")\n",
    "    )\n",
    "\n",
    "sf1b"
   ]
  },
  {
   "cell_type": "code",
   "execution_count": 54,
   "metadata": {},
   "outputs": [
    {
     "data": {
      "text/html": [
       "<table>\n",
       "<caption>A tibble: 3 × 13</caption>\n",
       "<thead>\n",
       "\t<tr><th scope=col>sample</th><th scope=col>min.Raw</th><th scope=col>avg.Raw</th><th scope=col>med.Raw</th><th scope=col>max.Raw</th><th scope=col>min.logRaw</th><th scope=col>avg.logRaw</th><th scope=col>med.logRaw</th><th scope=col>max.logRaw</th><th scope=col>min.norm</th><th scope=col>avg.norm</th><th scope=col>med.norm</th><th scope=col>max.norm</th></tr>\n",
       "\t<tr><th scope=col>&lt;fct&gt;</th><th scope=col>&lt;dbl&gt;</th><th scope=col>&lt;dbl&gt;</th><th scope=col>&lt;dbl&gt;</th><th scope=col>&lt;dbl&gt;</th><th scope=col>&lt;dbl&gt;</th><th scope=col>&lt;dbl&gt;</th><th scope=col>&lt;dbl&gt;</th><th scope=col>&lt;dbl&gt;</th><th scope=col>&lt;dbl&gt;</th><th scope=col>&lt;dbl&gt;</th><th scope=col>&lt;dbl&gt;</th><th scope=col>&lt;dbl&gt;</th></tr>\n",
       "</thead>\n",
       "<tbody>\n",
       "\t<tr><td>PBMC   </td><td>  1</td><td>52293.45</td><td>26878</td><td>2507730</td><td>0.000000</td><td>4.407694</td><td>4.429397</td><td>6.399281</td><td>4.865457e-05</td><td>0.4692756</td><td>0.4535210</td><td>0.9999828</td></tr>\n",
       "\t<tr><td>CHERpre</td><td> 24</td><td>56981.53</td><td>27445</td><td>1371397</td><td>1.380211</td><td>4.425720</td><td>4.438463</td><td>6.137163</td><td>2.010407e-03</td><td>0.4705026</td><td>0.4584621</td><td>0.9999171</td></tr>\n",
       "\t<tr><td>CHERon </td><td>389</td><td>74972.29</td><td>32271</td><td>3471878</td><td>2.589950</td><td>4.501871</td><td>4.508812</td><td>6.540564</td><td>8.110080e-03</td><td>0.4706365</td><td>0.4395921</td><td>0.9980965</td></tr>\n",
       "</tbody>\n",
       "</table>\n"
      ],
      "text/latex": [
       "A tibble: 3 × 13\n",
       "\\begin{tabular}{r|lllllllllllll}\n",
       " sample & min.Raw & avg.Raw & med.Raw & max.Raw & min.logRaw & avg.logRaw & med.logRaw & max.logRaw & min.norm & avg.norm & med.norm & max.norm\\\\\n",
       " <fct> & <dbl> & <dbl> & <dbl> & <dbl> & <dbl> & <dbl> & <dbl> & <dbl> & <dbl> & <dbl> & <dbl> & <dbl>\\\\\n",
       "\\hline\n",
       "\t PBMC    &   1 & 52293.45 & 26878 & 2507730 & 0.000000 & 4.407694 & 4.429397 & 6.399281 & 4.865457e-05 & 0.4692756 & 0.4535210 & 0.9999828\\\\\n",
       "\t CHERpre &  24 & 56981.53 & 27445 & 1371397 & 1.380211 & 4.425720 & 4.438463 & 6.137163 & 2.010407e-03 & 0.4705026 & 0.4584621 & 0.9999171\\\\\n",
       "\t CHERon  & 389 & 74972.29 & 32271 & 3471878 & 2.589950 & 4.501871 & 4.508812 & 6.540564 & 8.110080e-03 & 0.4706365 & 0.4395921 & 0.9980965\\\\\n",
       "\\end{tabular}\n"
      ],
      "text/markdown": [
       "\n",
       "A tibble: 3 × 13\n",
       "\n",
       "| sample &lt;fct&gt; | min.Raw &lt;dbl&gt; | avg.Raw &lt;dbl&gt; | med.Raw &lt;dbl&gt; | max.Raw &lt;dbl&gt; | min.logRaw &lt;dbl&gt; | avg.logRaw &lt;dbl&gt; | med.logRaw &lt;dbl&gt; | max.logRaw &lt;dbl&gt; | min.norm &lt;dbl&gt; | avg.norm &lt;dbl&gt; | med.norm &lt;dbl&gt; | max.norm &lt;dbl&gt; |\n",
       "|---|---|---|---|---|---|---|---|---|---|---|---|---|\n",
       "| PBMC    |   1 | 52293.45 | 26878 | 2507730 | 0.000000 | 4.407694 | 4.429397 | 6.399281 | 4.865457e-05 | 0.4692756 | 0.4535210 | 0.9999828 |\n",
       "| CHERpre |  24 | 56981.53 | 27445 | 1371397 | 1.380211 | 4.425720 | 4.438463 | 6.137163 | 2.010407e-03 | 0.4705026 | 0.4584621 | 0.9999171 |\n",
       "| CHERon  | 389 | 74972.29 | 32271 | 3471878 | 2.589950 | 4.501871 | 4.508812 | 6.540564 | 8.110080e-03 | 0.4706365 | 0.4395921 | 0.9980965 |\n",
       "\n"
      ],
      "text/plain": [
       "  sample  min.Raw avg.Raw  med.Raw max.Raw min.logRaw avg.logRaw med.logRaw\n",
       "1 PBMC      1     52293.45 26878   2507730 0.000000   4.407694   4.429397  \n",
       "2 CHERpre  24     56981.53 27445   1371397 1.380211   4.425720   4.438463  \n",
       "3 CHERon  389     74972.29 32271   3471878 2.589950   4.501871   4.508812  \n",
       "  max.logRaw min.norm     avg.norm  med.norm  max.norm \n",
       "1 6.399281   4.865457e-05 0.4692756 0.4535210 0.9999828\n",
       "2 6.137163   2.010407e-03 0.4705026 0.4584621 0.9999171\n",
       "3 6.540564   8.110080e-03 0.4706365 0.4395921 0.9980965"
      ]
     },
     "metadata": {},
     "output_type": "display_data"
    }
   ],
   "source": [
    "#Summarise data and show\n",
    "ISA_data.tss %>%\n",
    "    group_by(sample) %>%\n",
    "    summarise(\n",
    "        min.Raw = min(raw_dist),\n",
    "        avg.Raw = mean(raw_dist),\n",
    "        med.Raw = median(raw_dist),\n",
    "        max.Raw = max(raw_dist),\n",
    "        min.logRaw = min(raw_dist.log),\n",
    "        avg.logRaw = mean(raw_dist.log),\n",
    "        med.logRaw = median(raw_dist.log),\n",
    "        max.logRaw = max(raw_dist.log),\n",
    "        min.norm = min(norm_dist),\n",
    "        avg.norm = mean(norm_dist),\n",
    "        med.norm = median(norm_dist),\n",
    "        max.norm = max(norm_dist)\n",
    "    )"
   ]
  },
  {
   "cell_type": "code",
   "execution_count": 55,
   "metadata": {},
   "outputs": [],
   "source": [
    "#If you would like to download the figures as a powerpoint from this jupyter doc, use the following code\n",
    "\n",
    "#create_pptx function taken from https://www.brodrigues.co/blog/2018-10-05-ggplot2_purrr_officer/\n",
    "\n",
    "#install.packages(\"officer\")\n",
    "#install.packages(\"rvg\")\n",
    "#library(\"officer\")\n",
    "#library(\"rvg\")\n",
    "\n",
    "#create_pptx <- function(plot, path){\n",
    "#    if(!file.exists(path)) {\n",
    "#        out <- read_pptx()\n",
    "#    } else {\n",
    "#        out <- read_pptx(path)\n",
    "#    }\n",
    "#    \n",
    "#    out %>%\n",
    "#        add_slide(layout = \"Title and Content\", master = \"Office Theme\") %>%\n",
    "#        ph_with_vg(code = print(plot), type = \"body\") %>% \n",
    "#        print(target = path)\n",
    "#}\n",
    "\n",
    "#create_pptx(f1a, \"path\")\n",
    "#create_pptx(f1b, \"path\")\n",
    "#create_pptx(f2, \"path\")\n",
    "#create_pptx(f3a, \"path\")\n",
    "#create_pptx(f3b, \"path\")\n",
    "#create_pptx(f5, \"path\")\n",
    "#create_pptx(sf1a, \"path\")\n",
    "#create_pptx(sf1b, \"path\")\n"
   ]
  }
 ],
 "metadata": {
  "kernelspec": {
   "display_name": "R",
   "language": "R",
   "name": "ir"
  },
  "language_info": {
   "codemirror_mode": "r",
   "file_extension": ".r",
   "mimetype": "text/x-r-source",
   "name": "R",
   "pygments_lexer": "r",
   "version": "3.6.1"
  }
 },
 "nbformat": 4,
 "nbformat_minor": 2
}
